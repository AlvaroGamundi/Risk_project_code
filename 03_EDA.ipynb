{
 "cells": [
  {
   "cell_type": "markdown",
   "id": "d31dea65",
   "metadata": {},
   "source": [
    "# EDA"
   ]
  },
  {
   "cell_type": "markdown",
   "id": "swiss-fault",
   "metadata": {},
   "source": [
    "## IMPORTAR PAQUETES"
   ]
  },
  {
   "cell_type": "code",
   "execution_count": 193,
   "id": "adjacent-toddler",
   "metadata": {},
   "outputs": [],
   "source": [
    "import numpy as np\n",
    "import pandas as pd\n",
    "import matplotlib.pyplot as plt\n",
    "%matplotlib inline\n",
    "\n",
    "#Automcompletar rápido\n",
    "%config IPCompleter.greedy=True"
   ]
  },
  {
   "cell_type": "markdown",
   "id": "graduate-compensation",
   "metadata": {},
   "source": [
    "## IMPORTAR LOS DATOS"
   ]
  },
  {
   "cell_type": "markdown",
   "id": "3a5b94ef",
   "metadata": {},
   "source": [
    "Sustituir la ruta del proyecto."
   ]
  },
  {
   "cell_type": "code",
   "execution_count": 194,
   "id": "f9d2de58",
   "metadata": {},
   "outputs": [],
   "source": [
    "ruta_proyecto = 'C:/Users/alvar/Proyectos ML/03_RIESGOS'"
   ]
  },
  {
   "cell_type": "markdown",
   "id": "c3363765",
   "metadata": {},
   "source": [
    "Nombres de los ficheros de datos."
   ]
  },
  {
   "cell_type": "code",
   "execution_count": 195,
   "id": "a9e2e04a",
   "metadata": {},
   "outputs": [],
   "source": [
    "nombre_cat = 'cat_resultado_calidad.pickle'\n",
    "nombre_num = 'num_resultado_calidad.pickle'"
   ]
  },
  {
   "cell_type": "markdown",
   "id": "b9825018",
   "metadata": {},
   "source": [
    "Cargar los datos."
   ]
  },
  {
   "cell_type": "code",
   "execution_count": 196,
   "id": "cab6ebcd",
   "metadata": {},
   "outputs": [],
   "source": [
    "cat = pd.read_pickle(ruta_proyecto + '/02_Datos/03_Trabajo/' + nombre_cat)\n",
    "num = pd.read_pickle(ruta_proyecto + '/02_Datos/03_Trabajo/' + nombre_num)"
   ]
  },
  {
   "cell_type": "markdown",
   "id": "9790d322",
   "metadata": {},
   "source": [
    "## EDA CATEGÓRICAS"
   ]
  },
  {
   "cell_type": "markdown",
   "id": "f1fa5201",
   "metadata": {},
   "source": [
    "### Análisis estadístico"
   ]
  },
  {
   "cell_type": "code",
   "execution_count": 197,
   "id": "aad81fd3-d64a-438e-b5e6-122c9b38d646",
   "metadata": {},
   "outputs": [
    {
     "name": "stdout",
     "output_type": "stream",
     "text": [
      "<class 'pandas.core.frame.DataFrame'>\n",
      "Int64Index: 139646 entries, 137387967 to 94394801\n",
      "Data columns (total 9 columns):\n",
      " #   Column                Non-Null Count   Dtype \n",
      "---  ------                --------------   ----- \n",
      " 0   empleo                139646 non-null  object\n",
      " 1   antiguedad_empleo     139646 non-null  object\n",
      " 2   ingresos_verificados  139646 non-null  object\n",
      " 3   rating                139646 non-null  object\n",
      " 4   vivienda              139646 non-null  object\n",
      " 5   descripcion           139646 non-null  object\n",
      " 6   finalidad             139646 non-null  object\n",
      " 7   num_cuotas            139646 non-null  object\n",
      " 8   estado                139646 non-null  object\n",
      "dtypes: object(9)\n",
      "memory usage: 10.7+ MB\n"
     ]
    }
   ],
   "source": [
    "cat.info()"
   ]
  },
  {
   "cell_type": "code",
   "execution_count": 198,
   "id": "75397ec1",
   "metadata": {},
   "outputs": [],
   "source": [
    "variables = ['antiguedad_empleo', 'ingresos_verificados', 'rating', 'vivienda',\n",
    "       'finalidad', 'num_cuotas', 'estado']"
   ]
  },
  {
   "cell_type": "code",
   "execution_count": 199,
   "id": "02607b69",
   "metadata": {},
   "outputs": [],
   "source": [
    "def frecuencias_cat(df_cat):\n",
    "    resultado = df_cat[variables].apply(lambda x: x.value_counts(normalize = True)).T.stack()\\\n",
    "                .to_frame().reset_index()\\\n",
    "                .rename(columns={'level_0':'Variable','level_1':'Valor',0: \"Frecuencia\"})\\\n",
    "                .sort_values(by = ['Variable','Frecuencia'])\n",
    "    return(resultado)"
   ]
  },
  {
   "cell_type": "code",
   "execution_count": 200,
   "id": "41c44a8e",
   "metadata": {
    "scrolled": true
   },
   "outputs": [
    {
     "data": {
      "text/html": [
       "<div>\n",
       "<style scoped>\n",
       "    .dataframe tbody tr th:only-of-type {\n",
       "        vertical-align: middle;\n",
       "    }\n",
       "\n",
       "    .dataframe tbody tr th {\n",
       "        vertical-align: top;\n",
       "    }\n",
       "\n",
       "    .dataframe thead th {\n",
       "        text-align: right;\n",
       "    }\n",
       "</style>\n",
       "<table border=\"1\" class=\"dataframe\">\n",
       "  <thead>\n",
       "    <tr style=\"text-align: right;\">\n",
       "      <th></th>\n",
       "      <th>Variable</th>\n",
       "      <th>Valor</th>\n",
       "      <th>Frecuencia</th>\n",
       "    </tr>\n",
       "  </thead>\n",
       "  <tbody>\n",
       "    <tr>\n",
       "      <th>9</th>\n",
       "      <td>antiguedad_empleo</td>\n",
       "      <td>9 years</td>\n",
       "      <td>0.035282</td>\n",
       "    </tr>\n",
       "    <tr>\n",
       "      <th>8</th>\n",
       "      <td>antiguedad_empleo</td>\n",
       "      <td>8 years</td>\n",
       "      <td>0.040982</td>\n",
       "    </tr>\n",
       "    <tr>\n",
       "      <th>7</th>\n",
       "      <td>antiguedad_empleo</td>\n",
       "      <td>7 years</td>\n",
       "      <td>0.041032</td>\n",
       "    </tr>\n",
       "    <tr>\n",
       "      <th>6</th>\n",
       "      <td>antiguedad_empleo</td>\n",
       "      <td>6 years</td>\n",
       "      <td>0.044656</td>\n",
       "    </tr>\n",
       "    <tr>\n",
       "      <th>4</th>\n",
       "      <td>antiguedad_empleo</td>\n",
       "      <td>4 years</td>\n",
       "      <td>0.061248</td>\n",
       "    </tr>\n",
       "    <tr>\n",
       "      <th>5</th>\n",
       "      <td>antiguedad_empleo</td>\n",
       "      <td>5 years</td>\n",
       "      <td>0.063031</td>\n",
       "    </tr>\n",
       "    <tr>\n",
       "      <th>11</th>\n",
       "      <td>antiguedad_empleo</td>\n",
       "      <td>Unknown</td>\n",
       "      <td>0.064656</td>\n",
       "    </tr>\n",
       "    <tr>\n",
       "      <th>0</th>\n",
       "      <td>antiguedad_empleo</td>\n",
       "      <td>1 year</td>\n",
       "      <td>0.065358</td>\n",
       "    </tr>\n",
       "    <tr>\n",
       "      <th>3</th>\n",
       "      <td>antiguedad_empleo</td>\n",
       "      <td>3 years</td>\n",
       "      <td>0.080045</td>\n",
       "    </tr>\n",
       "    <tr>\n",
       "      <th>10</th>\n",
       "      <td>antiguedad_empleo</td>\n",
       "      <td>&lt; 1 year</td>\n",
       "      <td>0.084943</td>\n",
       "    </tr>\n",
       "    <tr>\n",
       "      <th>2</th>\n",
       "      <td>antiguedad_empleo</td>\n",
       "      <td>2 years</td>\n",
       "      <td>0.089691</td>\n",
       "    </tr>\n",
       "    <tr>\n",
       "      <th>1</th>\n",
       "      <td>antiguedad_empleo</td>\n",
       "      <td>10+ years</td>\n",
       "      <td>0.329075</td>\n",
       "    </tr>\n",
       "    <tr>\n",
       "      <th>46</th>\n",
       "      <td>estado</td>\n",
       "      <td>Default</td>\n",
       "      <td>0.000014</td>\n",
       "    </tr>\n",
       "    <tr>\n",
       "      <th>47</th>\n",
       "      <td>estado</td>\n",
       "      <td>Does not meet the credit policy. Status:Charge...</td>\n",
       "      <td>0.000380</td>\n",
       "    </tr>\n",
       "    <tr>\n",
       "      <th>48</th>\n",
       "      <td>estado</td>\n",
       "      <td>Does not meet the credit policy. Status:Fully ...</td>\n",
       "      <td>0.000824</td>\n",
       "    </tr>\n",
       "    <tr>\n",
       "      <th>51</th>\n",
       "      <td>estado</td>\n",
       "      <td>Late (16-30 days)</td>\n",
       "      <td>0.001840</td>\n",
       "    </tr>\n",
       "    <tr>\n",
       "      <th>50</th>\n",
       "      <td>estado</td>\n",
       "      <td>In Grace Period</td>\n",
       "      <td>0.003867</td>\n",
       "    </tr>\n",
       "    <tr>\n",
       "      <th>52</th>\n",
       "      <td>estado</td>\n",
       "      <td>Late (31-120 days)</td>\n",
       "      <td>0.009567</td>\n",
       "    </tr>\n",
       "    <tr>\n",
       "      <th>44</th>\n",
       "      <td>estado</td>\n",
       "      <td>Charged Off</td>\n",
       "      <td>0.118306</td>\n",
       "    </tr>\n",
       "    <tr>\n",
       "      <th>45</th>\n",
       "      <td>estado</td>\n",
       "      <td>Current</td>\n",
       "      <td>0.389585</td>\n",
       "    </tr>\n",
       "    <tr>\n",
       "      <th>49</th>\n",
       "      <td>estado</td>\n",
       "      <td>Fully Paid</td>\n",
       "      <td>0.475617</td>\n",
       "    </tr>\n",
       "    <tr>\n",
       "      <th>31</th>\n",
       "      <td>finalidad</td>\n",
       "      <td>educational</td>\n",
       "      <td>0.000193</td>\n",
       "    </tr>\n",
       "    <tr>\n",
       "      <th>38</th>\n",
       "      <td>finalidad</td>\n",
       "      <td>renewable_energy</td>\n",
       "      <td>0.000630</td>\n",
       "    </tr>\n",
       "    <tr>\n",
       "      <th>41</th>\n",
       "      <td>finalidad</td>\n",
       "      <td>wedding</td>\n",
       "      <td>0.001038</td>\n",
       "    </tr>\n",
       "    <tr>\n",
       "      <th>33</th>\n",
       "      <td>finalidad</td>\n",
       "      <td>house</td>\n",
       "      <td>0.006681</td>\n",
       "    </tr>\n",
       "    <tr>\n",
       "      <th>36</th>\n",
       "      <td>finalidad</td>\n",
       "      <td>moving</td>\n",
       "      <td>0.007061</td>\n",
       "    </tr>\n",
       "    <tr>\n",
       "      <th>40</th>\n",
       "      <td>finalidad</td>\n",
       "      <td>vacation</td>\n",
       "      <td>0.007061</td>\n",
       "    </tr>\n",
       "    <tr>\n",
       "      <th>28</th>\n",
       "      <td>finalidad</td>\n",
       "      <td>car</td>\n",
       "      <td>0.010405</td>\n",
       "    </tr>\n",
       "    <tr>\n",
       "      <th>39</th>\n",
       "      <td>finalidad</td>\n",
       "      <td>small_business</td>\n",
       "      <td>0.011450</td>\n",
       "    </tr>\n",
       "    <tr>\n",
       "      <th>35</th>\n",
       "      <td>finalidad</td>\n",
       "      <td>medical</td>\n",
       "      <td>0.011973</td>\n",
       "    </tr>\n",
       "    <tr>\n",
       "      <th>34</th>\n",
       "      <td>finalidad</td>\n",
       "      <td>major_purchase</td>\n",
       "      <td>0.022958</td>\n",
       "    </tr>\n",
       "    <tr>\n",
       "      <th>37</th>\n",
       "      <td>finalidad</td>\n",
       "      <td>other</td>\n",
       "      <td>0.061935</td>\n",
       "    </tr>\n",
       "    <tr>\n",
       "      <th>32</th>\n",
       "      <td>finalidad</td>\n",
       "      <td>home_improvement</td>\n",
       "      <td>0.065981</td>\n",
       "    </tr>\n",
       "    <tr>\n",
       "      <th>29</th>\n",
       "      <td>finalidad</td>\n",
       "      <td>credit_card</td>\n",
       "      <td>0.224926</td>\n",
       "    </tr>\n",
       "    <tr>\n",
       "      <th>30</th>\n",
       "      <td>finalidad</td>\n",
       "      <td>debt_consolidation</td>\n",
       "      <td>0.567707</td>\n",
       "    </tr>\n",
       "    <tr>\n",
       "      <th>14</th>\n",
       "      <td>ingresos_verificados</td>\n",
       "      <td>Verified</td>\n",
       "      <td>0.276986</td>\n",
       "    </tr>\n",
       "    <tr>\n",
       "      <th>12</th>\n",
       "      <td>ingresos_verificados</td>\n",
       "      <td>Not Verified</td>\n",
       "      <td>0.330772</td>\n",
       "    </tr>\n",
       "    <tr>\n",
       "      <th>13</th>\n",
       "      <td>ingresos_verificados</td>\n",
       "      <td>Source Verified</td>\n",
       "      <td>0.392242</td>\n",
       "    </tr>\n",
       "    <tr>\n",
       "      <th>43</th>\n",
       "      <td>num_cuotas</td>\n",
       "      <td>60 months</td>\n",
       "      <td>0.286231</td>\n",
       "    </tr>\n",
       "    <tr>\n",
       "      <th>42</th>\n",
       "      <td>num_cuotas</td>\n",
       "      <td>36 months</td>\n",
       "      <td>0.713769</td>\n",
       "    </tr>\n",
       "    <tr>\n",
       "      <th>21</th>\n",
       "      <td>rating</td>\n",
       "      <td>G</td>\n",
       "      <td>0.005399</td>\n",
       "    </tr>\n",
       "    <tr>\n",
       "      <th>20</th>\n",
       "      <td>rating</td>\n",
       "      <td>F</td>\n",
       "      <td>0.018196</td>\n",
       "    </tr>\n",
       "    <tr>\n",
       "      <th>19</th>\n",
       "      <td>rating</td>\n",
       "      <td>E</td>\n",
       "      <td>0.060639</td>\n",
       "    </tr>\n",
       "    <tr>\n",
       "      <th>18</th>\n",
       "      <td>rating</td>\n",
       "      <td>D</td>\n",
       "      <td>0.143656</td>\n",
       "    </tr>\n",
       "    <tr>\n",
       "      <th>15</th>\n",
       "      <td>rating</td>\n",
       "      <td>A</td>\n",
       "      <td>0.191821</td>\n",
       "    </tr>\n",
       "    <tr>\n",
       "      <th>17</th>\n",
       "      <td>rating</td>\n",
       "      <td>C</td>\n",
       "      <td>0.287047</td>\n",
       "    </tr>\n",
       "    <tr>\n",
       "      <th>16</th>\n",
       "      <td>rating</td>\n",
       "      <td>B</td>\n",
       "      <td>0.293241</td>\n",
       "    </tr>\n",
       "    <tr>\n",
       "      <th>24</th>\n",
       "      <td>vivienda</td>\n",
       "      <td>NONE</td>\n",
       "      <td>0.000014</td>\n",
       "    </tr>\n",
       "    <tr>\n",
       "      <th>25</th>\n",
       "      <td>vivienda</td>\n",
       "      <td>OTHER</td>\n",
       "      <td>0.000079</td>\n",
       "    </tr>\n",
       "    <tr>\n",
       "      <th>22</th>\n",
       "      <td>vivienda</td>\n",
       "      <td>ANY</td>\n",
       "      <td>0.000408</td>\n",
       "    </tr>\n",
       "    <tr>\n",
       "      <th>26</th>\n",
       "      <td>vivienda</td>\n",
       "      <td>OWN</td>\n",
       "      <td>0.111697</td>\n",
       "    </tr>\n",
       "    <tr>\n",
       "      <th>27</th>\n",
       "      <td>vivienda</td>\n",
       "      <td>RENT</td>\n",
       "      <td>0.396803</td>\n",
       "    </tr>\n",
       "    <tr>\n",
       "      <th>23</th>\n",
       "      <td>vivienda</td>\n",
       "      <td>MORTGAGE</td>\n",
       "      <td>0.490999</td>\n",
       "    </tr>\n",
       "  </tbody>\n",
       "</table>\n",
       "</div>"
      ],
      "text/plain": [
       "                Variable                                              Valor  \\\n",
       "9      antiguedad_empleo                                            9 years   \n",
       "8      antiguedad_empleo                                            8 years   \n",
       "7      antiguedad_empleo                                            7 years   \n",
       "6      antiguedad_empleo                                            6 years   \n",
       "4      antiguedad_empleo                                            4 years   \n",
       "5      antiguedad_empleo                                            5 years   \n",
       "11     antiguedad_empleo                                            Unknown   \n",
       "0      antiguedad_empleo                                             1 year   \n",
       "3      antiguedad_empleo                                            3 years   \n",
       "10     antiguedad_empleo                                           < 1 year   \n",
       "2      antiguedad_empleo                                            2 years   \n",
       "1      antiguedad_empleo                                          10+ years   \n",
       "46                estado                                            Default   \n",
       "47                estado  Does not meet the credit policy. Status:Charge...   \n",
       "48                estado  Does not meet the credit policy. Status:Fully ...   \n",
       "51                estado                                  Late (16-30 days)   \n",
       "50                estado                                    In Grace Period   \n",
       "52                estado                                 Late (31-120 days)   \n",
       "44                estado                                        Charged Off   \n",
       "45                estado                                            Current   \n",
       "49                estado                                         Fully Paid   \n",
       "31             finalidad                                        educational   \n",
       "38             finalidad                                   renewable_energy   \n",
       "41             finalidad                                            wedding   \n",
       "33             finalidad                                              house   \n",
       "36             finalidad                                             moving   \n",
       "40             finalidad                                           vacation   \n",
       "28             finalidad                                                car   \n",
       "39             finalidad                                     small_business   \n",
       "35             finalidad                                            medical   \n",
       "34             finalidad                                     major_purchase   \n",
       "37             finalidad                                              other   \n",
       "32             finalidad                                   home_improvement   \n",
       "29             finalidad                                        credit_card   \n",
       "30             finalidad                                 debt_consolidation   \n",
       "14  ingresos_verificados                                           Verified   \n",
       "12  ingresos_verificados                                       Not Verified   \n",
       "13  ingresos_verificados                                    Source Verified   \n",
       "43            num_cuotas                                          60 months   \n",
       "42            num_cuotas                                          36 months   \n",
       "21                rating                                                  G   \n",
       "20                rating                                                  F   \n",
       "19                rating                                                  E   \n",
       "18                rating                                                  D   \n",
       "15                rating                                                  A   \n",
       "17                rating                                                  C   \n",
       "16                rating                                                  B   \n",
       "24              vivienda                                               NONE   \n",
       "25              vivienda                                              OTHER   \n",
       "22              vivienda                                                ANY   \n",
       "26              vivienda                                                OWN   \n",
       "27              vivienda                                               RENT   \n",
       "23              vivienda                                           MORTGAGE   \n",
       "\n",
       "    Frecuencia  \n",
       "9     0.035282  \n",
       "8     0.040982  \n",
       "7     0.041032  \n",
       "6     0.044656  \n",
       "4     0.061248  \n",
       "5     0.063031  \n",
       "11    0.064656  \n",
       "0     0.065358  \n",
       "3     0.080045  \n",
       "10    0.084943  \n",
       "2     0.089691  \n",
       "1     0.329075  \n",
       "46    0.000014  \n",
       "47    0.000380  \n",
       "48    0.000824  \n",
       "51    0.001840  \n",
       "50    0.003867  \n",
       "52    0.009567  \n",
       "44    0.118306  \n",
       "45    0.389585  \n",
       "49    0.475617  \n",
       "31    0.000193  \n",
       "38    0.000630  \n",
       "41    0.001038  \n",
       "33    0.006681  \n",
       "36    0.007061  \n",
       "40    0.007061  \n",
       "28    0.010405  \n",
       "39    0.011450  \n",
       "35    0.011973  \n",
       "34    0.022958  \n",
       "37    0.061935  \n",
       "32    0.065981  \n",
       "29    0.224926  \n",
       "30    0.567707  \n",
       "14    0.276986  \n",
       "12    0.330772  \n",
       "13    0.392242  \n",
       "43    0.286231  \n",
       "42    0.713769  \n",
       "21    0.005399  \n",
       "20    0.018196  \n",
       "19    0.060639  \n",
       "18    0.143656  \n",
       "15    0.191821  \n",
       "17    0.287047  \n",
       "16    0.293241  \n",
       "24    0.000014  \n",
       "25    0.000079  \n",
       "22    0.000408  \n",
       "26    0.111697  \n",
       "27    0.396803  \n",
       "23    0.490999  "
      ]
     },
     "execution_count": 200,
     "metadata": {},
     "output_type": "execute_result"
    }
   ],
   "source": [
    "frecuencias_cat(cat)"
   ]
  },
  {
   "cell_type": "markdown",
   "id": "f28ee614",
   "metadata": {},
   "source": [
    "### Análisis gráfico"
   ]
  },
  {
   "cell_type": "code",
   "execution_count": 201,
   "id": "253deffa",
   "metadata": {},
   "outputs": [],
   "source": [
    "def graficos_eda_categoricos(cat):\n",
    "    \n",
    "    #Calculamos el número de filas que necesitamos\n",
    "    from math import ceil\n",
    "    filas = ceil(cat.shape[1] / 2)\n",
    "\n",
    "    #Definimos el gráfico\n",
    "    f, ax = plt.subplots(nrows = filas, ncols = 2, figsize = (16, filas * 6))\n",
    "\n",
    "    #Aplanamos para iterar por el gráfico como si fuera de 1 dimensión en lugar de 2\n",
    "    ax = ax.flat \n",
    "\n",
    "    #Creamos el bucle que va añadiendo gráficos\n",
    "    for cada, variable in enumerate(cat):\n",
    "        cat[variable].value_counts().plot.barh(ax = ax[cada])\n",
    "        ax[cada].set_title(variable, fontsize = 12, fontweight = \"bold\")\n",
    "        ax[cada].tick_params(labelsize = 12)"
   ]
  },
  {
   "cell_type": "code",
   "execution_count": 202,
   "id": "338e8a97",
   "metadata": {
    "scrolled": true
   },
   "outputs": [
    {
     "data": {
      "image/png": "[encoded data removed]",
      "text/plain": [
       "<Figure size 1152x1728 with 8 Axes>"
      ]
     },
     "metadata": {
      "needs_background": "light"
     },
     "output_type": "display_data"
    }
   ],
   "source": [
    "graficos_eda_categoricos(cat[variables])"
   ]
  },
  {
   "cell_type": "markdown",
   "id": "487b1855",
   "metadata": {},
   "source": [
    "Conclusiones:\n",
    "\n",
    "En transformación:\n",
    "\n",
    "* En vivienda juntar ANY, NONE y OTHER a la categoria mayoritaria\n",
    "* En finalidad juntar renewable_energy, educational y wedding en 'otros'\n",
    "* Crear la target a partir de estado"
   ]
  },
  {
   "cell_type": "code",
   "execution_count": 203,
   "id": "52c07045",
   "metadata": {},
   "outputs": [
    {
     "name": "stdout",
     "output_type": "stream",
     "text": [
      "<class 'pandas.core.frame.DataFrame'>\n",
      "Int64Index: 139646 entries, 137387967 to 94394801\n",
      "Data columns (total 9 columns):\n",
      " #   Column                Non-Null Count   Dtype \n",
      "---  ------                --------------   ----- \n",
      " 0   empleo                139646 non-null  object\n",
      " 1   antiguedad_empleo     139646 non-null  object\n",
      " 2   ingresos_verificados  139646 non-null  object\n",
      " 3   rating                139646 non-null  object\n",
      " 4   vivienda              139646 non-null  object\n",
      " 5   descripcion           139646 non-null  object\n",
      " 6   finalidad             139646 non-null  object\n",
      " 7   num_cuotas            139646 non-null  object\n",
      " 8   estado                139646 non-null  object\n",
      "dtypes: object(9)\n",
      "memory usage: 10.7+ MB\n"
     ]
    }
   ],
   "source": [
    "cat.info()"
   ]
  },
  {
   "cell_type": "code",
   "execution_count": 204,
   "id": "3d5b41c0",
   "metadata": {},
   "outputs": [],
   "source": [
    "def agrupar_cat_raras(variable, criterio = 0.005):\n",
    "    #Calcula las frecuencias\n",
    "    frecuencias = variable.value_counts(normalize=True)\n",
    "    #Identifica las que están por debajo del criterio\n",
    "    temp = [cada for cada in frecuencias.loc[frecuencias < criterio].index.values]\n",
    "    #Las recodifica en 'OTROS'\n",
    "    temp2 = np.where(variable.isin(temp),'Unknown',variable)\n",
    "    #Devuelve el resultado\n",
    "    return(temp2)"
   ]
  },
  {
   "cell_type": "code",
   "execution_count": 205,
   "id": "5c3d3a02",
   "metadata": {},
   "outputs": [],
   "source": [
    "var_imputar_moda = ['empleo']"
   ]
  },
  {
   "cell_type": "code",
   "execution_count": 206,
   "id": "f6849e55",
   "metadata": {},
   "outputs": [],
   "source": [
    "for variable in var_imputar_moda:\n",
    "    cat[variable] = agrupar_cat_raras(cat[variable],criterio = 0.005)"
   ]
  },
  {
   "cell_type": "code",
   "execution_count": 207,
   "id": "265de8fd",
   "metadata": {},
   "outputs": [
    {
     "data": {
      "text/plain": [
       "Unknown             129170\n",
       "Teacher               2521\n",
       "Manager               2167\n",
       "Owner                 1333\n",
       "Registered Nurse       971\n",
       "Driver                 934\n",
       "RN                     928\n",
       "Supervisor             843\n",
       "Sales                  779\n",
       "Name: empleo, dtype: int64"
      ]
     },
     "execution_count": 207,
     "metadata": {},
     "output_type": "execute_result"
    }
   ],
   "source": [
    "cat['empleo'].value_counts()"
   ]
  },
  {
   "cell_type": "code",
   "execution_count": 208,
   "id": "60fbab2b",
   "metadata": {},
   "outputs": [
    {
     "data": {
      "image/png": "[encoded data removed]",
      "text/plain": [
       "<Figure size 864x432 with 1 Axes>"
      ]
     },
     "metadata": {
      "needs_background": "light"
     },
     "output_type": "display_data"
    }
   ],
   "source": [
    "import seaborn as sns\n",
    "import matplotlib.pyplot as plt\n",
    "\n",
    "# Opciones generales\n",
    "plt.figure(figsize=(12, 6))\n",
    "\n",
    "# Ordenar las categorías de 'empleo' por frecuencia (de más a menos)\n",
    "ordered_categories = cat['empleo'].value_counts().index\n",
    "\n",
    "# Gráfico de barras con las categorías ordenadas\n",
    "sns.countplot(data=cat, y='empleo', order=ordered_categories, palette='Blues')\n",
    "\n",
    "# Personalizar el gráfico\n",
    "plt.title(\"Employment Distribution\", fontsize=20)\n",
    "plt.xlabel(\"Frequency\", fontsize=14)\n",
    "plt.ylabel(\"Employment\", fontsize=14)\n",
    "\n",
    "# Mostrar el gráfico\n",
    "plt.show()"
   ]
  },
  {
   "cell_type": "code",
   "execution_count": 209,
   "id": "870ed297",
   "metadata": {},
   "outputs": [
    {
     "ename": "KeyError",
     "evalue": "'Column not found: target_pd'",
     "output_type": "error",
     "traceback": [
      "\u001b[1;31m---------------------------------------------------------------------------\u001b[0m",
      "\u001b[1;31mKeyError\u001b[0m                                  Traceback (most recent call last)",
      "Input \u001b[1;32mIn [209]\u001b[0m, in \u001b[0;36m<cell line: 1>\u001b[1;34m()\u001b[0m\n\u001b[1;32m----> 1\u001b[0m cat[\u001b[38;5;124m'\u001b[39m\u001b[38;5;124maverage_status_grouped\u001b[39m\u001b[38;5;124m'\u001b[39m] \u001b[38;5;241m=\u001b[39m \u001b[43mcat\u001b[49m\u001b[38;5;241;43m.\u001b[39;49m\u001b[43mgroupby\u001b[49m\u001b[43m(\u001b[49m\u001b[38;5;124;43m'\u001b[39;49m\u001b[38;5;124;43mrating\u001b[39;49m\u001b[38;5;124;43m'\u001b[39;49m\u001b[43m)\u001b[49m\u001b[43m[\u001b[49m\u001b[38;5;124;43m'\u001b[39;49m\u001b[38;5;124;43mtarget_pd\u001b[39;49m\u001b[38;5;124;43m'\u001b[39;49m\u001b[43m]\u001b[49m\u001b[38;5;241m.\u001b[39mtransform(\u001b[38;5;124m'\u001b[39m\u001b[38;5;124mmean\u001b[39m\u001b[38;5;124m'\u001b[39m)\u001b[38;5;241m.\u001b[39mround(\u001b[38;5;241m3\u001b[39m)\u001b[38;5;241m*\u001b[39m\u001b[38;5;241m100\u001b[39m\n",
      "File \u001b[1;32m~\\miniconda3\\envs\\riesgos\\lib\\site-packages\\pandas\\core\\groupby\\generic.py:1338\u001b[0m, in \u001b[0;36mDataFrameGroupBy.__getitem__\u001b[1;34m(self, key)\u001b[0m\n\u001b[0;32m   1329\u001b[0m \u001b[38;5;28;01mif\u001b[39;00m \u001b[38;5;28misinstance\u001b[39m(key, \u001b[38;5;28mtuple\u001b[39m) \u001b[38;5;129;01mand\u001b[39;00m \u001b[38;5;28mlen\u001b[39m(key) \u001b[38;5;241m>\u001b[39m \u001b[38;5;241m1\u001b[39m:\n\u001b[0;32m   1330\u001b[0m     \u001b[38;5;66;03m# if len == 1, then it becomes a SeriesGroupBy and this is actually\u001b[39;00m\n\u001b[0;32m   1331\u001b[0m     \u001b[38;5;66;03m# valid syntax, so don't raise warning\u001b[39;00m\n\u001b[0;32m   1332\u001b[0m     warnings\u001b[38;5;241m.\u001b[39mwarn(\n\u001b[0;32m   1333\u001b[0m         \u001b[38;5;124m\"\u001b[39m\u001b[38;5;124mIndexing with multiple keys (implicitly converted to a tuple \u001b[39m\u001b[38;5;124m\"\u001b[39m\n\u001b[0;32m   1334\u001b[0m         \u001b[38;5;124m\"\u001b[39m\u001b[38;5;124mof keys) will be deprecated, use a list instead.\u001b[39m\u001b[38;5;124m\"\u001b[39m,\n\u001b[0;32m   1335\u001b[0m         \u001b[38;5;167;01mFutureWarning\u001b[39;00m,\n\u001b[0;32m   1336\u001b[0m         stacklevel\u001b[38;5;241m=\u001b[39mfind_stack_level(),\n\u001b[0;32m   1337\u001b[0m     )\n\u001b[1;32m-> 1338\u001b[0m \u001b[38;5;28;01mreturn\u001b[39;00m \u001b[38;5;28;43msuper\u001b[39;49m\u001b[43m(\u001b[49m\u001b[43m)\u001b[49m\u001b[38;5;241;43m.\u001b[39;49m\u001b[38;5;21;43m__getitem__\u001b[39;49m\u001b[43m(\u001b[49m\u001b[43mkey\u001b[49m\u001b[43m)\u001b[49m\n",
      "File \u001b[1;32m~\\miniconda3\\envs\\riesgos\\lib\\site-packages\\pandas\\core\\base.py:250\u001b[0m, in \u001b[0;36mSelectionMixin.__getitem__\u001b[1;34m(self, key)\u001b[0m\n\u001b[0;32m    248\u001b[0m \u001b[38;5;28;01melse\u001b[39;00m:\n\u001b[0;32m    249\u001b[0m     \u001b[38;5;28;01mif\u001b[39;00m key \u001b[38;5;129;01mnot\u001b[39;00m \u001b[38;5;129;01min\u001b[39;00m \u001b[38;5;28mself\u001b[39m\u001b[38;5;241m.\u001b[39mobj:\n\u001b[1;32m--> 250\u001b[0m         \u001b[38;5;28;01mraise\u001b[39;00m \u001b[38;5;167;01mKeyError\u001b[39;00m(\u001b[38;5;124mf\u001b[39m\u001b[38;5;124m\"\u001b[39m\u001b[38;5;124mColumn not found: \u001b[39m\u001b[38;5;132;01m{\u001b[39;00mkey\u001b[38;5;132;01m}\u001b[39;00m\u001b[38;5;124m\"\u001b[39m)\n\u001b[0;32m    251\u001b[0m     subset \u001b[38;5;241m=\u001b[39m \u001b[38;5;28mself\u001b[39m\u001b[38;5;241m.\u001b[39mobj[key]\n\u001b[0;32m    252\u001b[0m     ndim \u001b[38;5;241m=\u001b[39m subset\u001b[38;5;241m.\u001b[39mndim\n",
      "\u001b[1;31mKeyError\u001b[0m: 'Column not found: target_pd'"
     ]
    }
   ],
   "source": [
    "cat['average_status_grouped'] = cat.groupby('rating')['target_pd'].transform('mean').round(3)*100"
   ]
  },
  {
   "cell_type": "code",
   "execution_count": null,
   "id": "f0b8ba44",
   "metadata": {},
   "outputs": [],
   "source": [
    "grouped_means"
   ]
  },
  {
   "cell_type": "code",
   "execution_count": null,
   "id": "2726a986",
   "metadata": {},
   "outputs": [],
   "source": [
    "cat"
   ]
  },
  {
   "cell_type": "code",
   "execution_count": null,
   "id": "de5f12fc",
   "metadata": {},
   "outputs": [],
   "source": [
    "# Opciones generales\n",
    "plt.figure(figsize=(12, 6))\n",
    "\n",
    "# Ordenar las categorías de 'empleo' por frecuencia (de más a menos)\n",
    "order = cat.groupby('rating')['average_status_grouped'].mean().sort_values(ascending=False).index\n",
    "\n",
    "\n",
    "# Gráfico de barras con las categorías ordenadas\n",
    "sns.barplot(data=cat,x='rating', y='average_status_grouped', order=order, palette='Blues')\n",
    "\n",
    "# Personalizar el gráfico\n",
    "plt.title(\"Debt status ratio by customer rating\", fontsize=20)\n",
    "plt.xlabel(\"Customer rating\", fontsize=14)\n",
    "plt.ylabel(\"Average debt status\", fontsize=14)\n",
    "\n",
    "# Mostrar el gráfico\n",
    "plt.show()"
   ]
  },
  {
   "cell_type": "code",
   "execution_count": null,
   "id": "1ca28934",
   "metadata": {},
   "outputs": [],
   "source": [
    "df=pd.merge(left=cat, right=num, how='left',on='id_cliente')"
   ]
  },
  {
   "cell_type": "code",
   "execution_count": null,
   "id": "e15ad45a",
   "metadata": {},
   "outputs": [],
   "source": [
    "df['discret_credit_card_usage']=pd.cut(df['porc_tarjetas_75p'],[0, 25, 50, 75, 100],labels=['0-25', '25-50', '50-75', '75-100'])"
   ]
  },
  {
   "cell_type": "code",
   "execution_count": null,
   "id": "eb7887d5",
   "metadata": {},
   "outputs": [],
   "source": [
    "df['discret_credit_card_usage']=df['discret_credit_card_usage'].fillna('0-25')"
   ]
  },
  {
   "cell_type": "code",
   "execution_count": null,
   "id": "5bb076d6",
   "metadata": {},
   "outputs": [],
   "source": [
    "df[['porc_tarjetas_75p','discret_credit_card_usage']]['discret_credit_card_usage'].unique()"
   ]
  },
  {
   "cell_type": "code",
   "execution_count": null,
   "id": "07bf7aec",
   "metadata": {},
   "outputs": [],
   "source": [
    "df['average_status_grouped_card'] = df.groupby('discret_credit_card_usage')['target_pd'].transform('mean').round(3)*100"
   ]
  },
  {
   "cell_type": "code",
   "execution_count": null,
   "id": "718979a7",
   "metadata": {},
   "outputs": [],
   "source": [
    "# Opciones generales\n",
    "plt.figure(figsize=(12, 6))\n",
    "\n",
    "# Ordenar las categorías de 'empleo' por frecuencia (de más a menos)\n",
    "order = df.groupby('discret_credit_card_usage')['average_status_grouped_card'].mean().sort_values(ascending=False).index\n",
    "\n",
    "\n",
    "# Gráfico de barras con las categorías ordenadas\n",
    "sns.barplot(data=df,x='discret_credit_card_usage', y='average_status_grouped_card', order=order, palette='Blues')\n",
    "\n",
    "# Personalizar el gráfico\n",
    "plt.title(\"Debt status ratio by credit card usage\", fontsize=20)\n",
    "plt.xlabel(\"Percentage of credit card usage\", fontsize=14)\n",
    "plt.ylabel(\"Average debt status\", fontsize=14)\n",
    "\n",
    "# Mostrar el gráfico\n",
    "plt.show()"
   ]
  },
  {
   "cell_type": "code",
   "execution_count": null,
   "id": "08407615",
   "metadata": {},
   "outputs": [],
   "source": [
    "# Opciones generales\n",
    "sns.displot(data=df, x='porc_tarjetas_75p', kind='kde', color='blue', height=6, aspect=2)\n",
    "\n",
    "\n",
    "\n",
    "# Personalizar el gráfico\n",
    "plt.title(\"Credit Card Usage Distribution\", fontsize=20)\n",
    "plt.xlabel(\"Percentage of credit card usage\", fontsize=14)\n",
    "plt.ylabel(\"Frecuency\", fontsize=14)\n",
    "\n",
    "# Mostrar el gráfico\n",
    "plt.show()\n"
   ]
  },
  {
   "cell_type": "code",
   "execution_count": null,
   "id": "ecd0a5d9",
   "metadata": {},
   "outputs": [],
   "source": [
    "df.loc[df['porc_tarjetas_75p']==0]['target_pd'].mean()*100"
   ]
  },
  {
   "cell_type": "code",
   "execution_count": null,
   "id": "369dbf31",
   "metadata": {},
   "outputs": [],
   "source": [
    "df.loc[df['porc_tarjetas_75p']==100]['target_pd'].mean()*100"
   ]
  },
  {
   "cell_type": "code",
   "execution_count": null,
   "id": "347b702e",
   "metadata": {},
   "outputs": [],
   "source": [
    "df['average_status_grouped_2'] = df.groupby('num_cuotas')['target_pd'].transform('mean').round(3)*100"
   ]
  },
  {
   "cell_type": "code",
   "execution_count": null,
   "id": "1c746a20",
   "metadata": {},
   "outputs": [],
   "source": [
    "df['average_status_grouped_2'].unique()"
   ]
  },
  {
   "cell_type": "code",
   "execution_count": null,
   "id": "85f670ae",
   "metadata": {},
   "outputs": [],
   "source": [
    "# Opciones generales\n",
    "plt.figure(figsize=(12, 6))\n",
    "\n",
    "# Ordenar las categorías de 'empleo' por frecuencia (de más a menos)\n",
    "order = df.groupby('num_cuotas')['average_status_grouped_2'].mean().sort_values(ascending=False).index\n",
    "\n",
    "\n",
    "# Gráfico de barras con las categorías ordenadas\n",
    "sns.barplot(data=df,y='num_cuotas', x='average_status_grouped_2', order=order, palette='Blues')\n",
    "\n",
    "# Personalizar el gráfico\n",
    "plt.title(\"Average default rate by repayment term\", fontsize=20)\n",
    "plt.xlabel(\"Average default rate\", fontsize=14)\n",
    "plt.ylabel(\"Repayment term\", fontsize=14)\n",
    "\n",
    "# Mostrar el gráfico\n",
    "plt.show()"
   ]
  },
  {
   "cell_type": "code",
   "execution_count": null,
   "id": "ef4dc072",
   "metadata": {},
   "outputs": [],
   "source": [
    "df.finalidad.value_counts()"
   ]
  },
  {
   "cell_type": "code",
   "execution_count": null,
   "id": "5387e6a9",
   "metadata": {},
   "outputs": [],
   "source": [
    "df['average_status_grouped_3'] = df.groupby('finalidad')['target_pd'].transform('mean').round(3)*100"
   ]
  },
  {
   "cell_type": "code",
   "execution_count": null,
   "id": "7d5f0e97",
   "metadata": {},
   "outputs": [],
   "source": [
    "df['average_status_grouped_3'].unique()"
   ]
  },
  {
   "cell_type": "code",
   "execution_count": null,
   "id": "5c5e18a8",
   "metadata": {},
   "outputs": [],
   "source": [
    "# Opciones generales\n",
    "plt.figure(figsize=(12, 6))\n",
    "\n",
    "# Ordenar las categorías de 'empleo' por frecuencia (de más a menos)\n",
    "order = df.groupby('finalidad')['average_status_grouped_3'].mean().sort_values(ascending=False).index\n",
    "\n",
    "\n",
    "# Gráfico de barras con las categorías ordenadas\n",
    "sns.barplot(data=df,y='finalidad', x='average_status_grouped_3', order=order, palette='Blues')\n",
    "\n",
    "# Personalizar el gráfico\n",
    "plt.title(\"Average default rate by loan purpose\", fontsize=20)\n",
    "plt.xlabel(\"Average default rate\", fontsize=14)\n",
    "plt.ylabel(\"Loan purpose\", fontsize=14)\n",
    "\n",
    "# Mostrar el gráfico\n",
    "plt.show()"
   ]
  },
  {
   "cell_type": "code",
   "execution_count": null,
   "id": "8df5a596",
   "metadata": {},
   "outputs": [],
   "source": [
    "# Opciones generales\n",
    "plt.figure(figsize=(12, 6))\n",
    "\n",
    "# Gráfico de barras con las categorías ordenadas\n",
    "sns.countplot(data=df, y='finalidad', order=df['finalidad'].value_counts().index, palette='Blues')\n",
    "\n",
    "# Personalizar el gráfico\n",
    "plt.title(\"Loan purpose frequency\", fontsize=20)\n",
    "plt.xlabel(\"Frequency\", fontsize=14)\n",
    "plt.ylabel(\"Loan purpose\", fontsize=14)\n",
    "\n",
    "# Mostrar el gráfico\n",
    "plt.show()\n"
   ]
  },
  {
   "cell_type": "raw",
   "id": "77d2397c",
   "metadata": {},
   "source": [
    "## EDA NUMÉRICAS"
   ]
  },
  {
   "cell_type": "markdown",
   "id": "7ed46011",
   "metadata": {},
   "source": [
    "### Análisis estadístico"
   ]
  },
  {
   "cell_type": "code",
   "execution_count": null,
   "id": "77dfb613",
   "metadata": {},
   "outputs": [],
   "source": [
    "def estadisticos_cont(num):\n",
    "    #Calculamos describe\n",
    "    estadisticos = num.describe().T\n",
    "    #Añadimos la mediana\n",
    "    estadisticos['median'] = num.median()\n",
    "    #Reordenamos para que la mediana esté al lado de la media\n",
    "    estadisticos = estadisticos.iloc[:,[0,1,8,2,3,4,5,6,7]]\n",
    "    #Lo devolvemos\n",
    "    return(estadisticos)"
   ]
  },
  {
   "cell_type": "code",
   "execution_count": null,
   "id": "62879e89",
   "metadata": {},
   "outputs": [],
   "source": [
    "estadisticos_cont(num)"
   ]
  },
  {
   "cell_type": "markdown",
   "id": "d2296b1b",
   "metadata": {},
   "source": [
    "### Análisis gráfico"
   ]
  },
  {
   "cell_type": "code",
   "execution_count": null,
   "id": "281e7597",
   "metadata": {},
   "outputs": [],
   "source": [
    "def graficos_eda_continuas(num):\n",
    "    \n",
    "    #Calculamos el número de fila que necesitamos\n",
    "    from math import ceil\n",
    "    filas = ceil(num.shape[1] / 2)\n",
    "\n",
    "    #Definimos el gráfico\n",
    "    f, ax = plt.subplots(nrows = filas, ncols = 2, figsize = (16, filas * 6))\n",
    "\n",
    "    #Aplanamos para iterar por el gráfico como si fuera de 1 dimensión en lugar de 2\n",
    "    ax = ax.flat \n",
    "\n",
    "    #Creamos el bucle que va añadiendo gráficos\n",
    "    for cada, variable in enumerate(num):\n",
    "        num[variable].plot.density(ax = ax[cada])\n",
    "        ax[cada].set_title(variable, fontsize = 12, fontweight = \"bold\")\n",
    "        ax[cada].tick_params(labelsize = 12)"
   ]
  },
  {
   "cell_type": "code",
   "execution_count": null,
   "id": "9b5d45c8",
   "metadata": {},
   "outputs": [],
   "source": [
    "graficos_eda_continuas(num)"
   ]
  },
  {
   "cell_type": "markdown",
   "id": "368bee79-2377-463d-b758-67b30d140281",
   "metadata": {},
   "source": [
    "Corregir Finalidad"
   ]
  },
  {
   "cell_type": "code",
   "execution_count": null,
   "id": "cb72e93e-a817-4f4a-9434-efc563b84107",
   "metadata": {},
   "outputs": [],
   "source": [
    "cat['finalidad']=cat.apply(lambda x:'other' if x.finalidad in['renewable_energy','educational','wedding'] else x.finalidad, axis=1)"
   ]
  },
  {
   "cell_type": "markdown",
   "id": "49d2197b-7698-449d-8d13-3fef643464ee",
   "metadata": {},
   "source": [
    "Corregir vivienda"
   ]
  },
  {
   "cell_type": "code",
   "execution_count": null,
   "id": "824bf6ec-f9d1-4731-8f1c-7c5a0c9909c4",
   "metadata": {},
   "outputs": [],
   "source": [
    "cat['vivienda']=cat['vivienda'].replace(['ANY','OTHER','NONE'],'MORTGAGE')"
   ]
  },
  {
   "cell_type": "markdown",
   "id": "2e2aa207-0691-4e0a-907f-12fb32a6c7aa",
   "metadata": {},
   "source": [
    "Correción dti"
   ]
  },
  {
   "cell_type": "code",
   "execution_count": null,
   "id": "37f1457f-c77a-4f91-9677-e9c305f62e02",
   "metadata": {},
   "outputs": [],
   "source": [
    "a_eliminar=num.loc[(num['dti']>100)|(num['dti']<0)].index.values"
   ]
  },
  {
   "cell_type": "code",
   "execution_count": null,
   "id": "ebbd3d89-b094-4c79-a83f-8597a21e313f",
   "metadata": {},
   "outputs": [],
   "source": [
    "num=num.loc[~num.index.isin(a_eliminar)]\n",
    "cat=cat.loc[~cat.index.isin(a_eliminar)]"
   ]
  },
  {
   "cell_type": "markdown",
   "id": "684f3f57-ed0c-40ed-943d-7132131b4f5f",
   "metadata": {},
   "source": [
    "Corrección porc_uso_revolving"
   ]
  },
  {
   "cell_type": "code",
   "execution_count": null,
   "id": "b732329a-ea71-4b1d-ab31-f3432c5c0d22",
   "metadata": {},
   "outputs": [],
   "source": [
    "num['porc_uso_revolving']=num.apply(lambda x: 100 if x.porc_uso_revolving>100 else x.porc_uso_revolving,axis=1)"
   ]
  },
  {
   "cell_type": "markdown",
   "id": "f5e4bf83-68f0-49ec-a1ea-11150f9874f8",
   "metadata": {},
   "source": [
    "Corrección num_cancelaciones_12meses"
   ]
  },
  {
   "cell_type": "code",
   "execution_count": null,
   "id": "ac6dbe9a-d409-4f76-80eb-610fc64167c6",
   "metadata": {},
   "outputs": [],
   "source": [
    "num['num_cancelaciones_12meses']=np.where(num['num_cancelaciones_12meses']>0,1,0)"
   ]
  },
  {
   "cell_type": "markdown",
   "id": "11c1c1f1-32c1-4990-80ef-38579b3416e5",
   "metadata": {},
   "source": [
    "Correción num_derogatorios"
   ]
  },
  {
   "cell_type": "code",
   "execution_count": null,
   "id": "07370be4-aaaf-4c9b-9bd3-6a227668d21c",
   "metadata": {},
   "outputs": [],
   "source": [
    "num['num_derogatorios']=np.where(num['num_derogatorios']>0,1,0)"
   ]
  },
  {
   "cell_type": "markdown",
   "id": "2c550982-cdc3-48dc-abda-cd98e2f5e020",
   "metadata": {},
   "source": [
    "Corrección estado"
   ]
  },
  {
   "cell_type": "code",
   "execution_count": 212,
   "id": "cb4eb8fe",
   "metadata": {},
   "outputs": [
    {
     "data": {
      "image/png": "[encoded data removed]",
      "text/plain": [
       "<Figure size 864x432 with 1 Axes>"
      ]
     },
     "metadata": {
      "needs_background": "light"
     },
     "output_type": "display_data"
    }
   ],
   "source": [
    "import seaborn as sns\n",
    "import matplotlib.pyplot as plt\n",
    "\n",
    "# Opciones generales\n",
    "plt.figure(figsize=(12, 6))\n",
    "\n",
    "# Ordenar las categorías de 'empleo' por frecuencia (de más a menos)\n",
    "ordered_categories = cat['estado'].value_counts().index\n",
    "\n",
    "# Gráfico de barras con las categorías ordenadas\n",
    "sns.countplot(data=cat, y='estado', order=ordered_categories, palette='Blues')\n",
    "\n",
    "# Personalizar el gráfico\n",
    "plt.title(\"Loan status\", fontsize=20)\n",
    "plt.xlabel(\"Frequency\", fontsize=14)\n",
    "plt.ylabel(\"Status\", fontsize=14)\n",
    "\n",
    "# Mostrar el gráfico\n",
    "plt.show()"
   ]
  },
  {
   "cell_type": "code",
   "execution_count": 214,
   "id": "12ba99e3-f586-4b74-a2e4-9ea4fbf706cf",
   "metadata": {},
   "outputs": [],
   "source": [
    "cat['target_pd']=np.where(cat['estado'].isin(['Charged Off','Does not meet the credit policy. Status:Charged Off','Default']),1,0)\n",
    "cat=cat.drop(columns='estado')"
   ]
  },
  {
   "cell_type": "code",
   "execution_count": 217,
   "id": "5f16194a",
   "metadata": {},
   "outputs": [
    {
     "data": {
      "image/png": "[encoded data removed]",
      "text/plain": [
       "<Figure size 864x432 with 1 Axes>"
      ]
     },
     "metadata": {
      "needs_background": "light"
     },
     "output_type": "display_data"
    }
   ],
   "source": [
    "# Opciones generales\n",
    "plt.figure(figsize=(12, 6))\n",
    "\n",
    "# Ordenar las categorías de 'empleo' por frecuencia (de más a menos)\n",
    "ordered_categories = cat['target_pd'].value_counts().index\n",
    "\n",
    "# Gráfico de barras con las categorías ordenadas\n",
    "sns.countplot(data=cat, y='target_pd', order=ordered_categories, palette='Blues')\n",
    "\n",
    "# Personalizar el gráfico\n",
    "plt.title(\"Loan status - target PD\", fontsize=20)\n",
    "plt.xlabel(\"Frequency\", fontsize=14)\n",
    "plt.ylabel(\"Status\", fontsize=14)\n",
    "\n",
    "# Mostrar el gráfico\n",
    "plt.show()"
   ]
  },
  {
   "cell_type": "markdown",
   "id": "4258d7da",
   "metadata": {},
   "source": [
    "Vamos a analizar el detalle de imp_amortizado e imp_recuperado, ya que son relevantes para la target del modelo LGD."
   ]
  },
  {
   "cell_type": "code",
   "execution_count": 87,
   "id": "ffa93f69",
   "metadata": {},
   "outputs": [],
   "source": [
    "ratios = num[['principal','imp_amortizado','imp_recuperado']].copy()"
   ]
  },
  {
   "cell_type": "code",
   "execution_count": 88,
   "id": "499b44b0",
   "metadata": {},
   "outputs": [],
   "source": [
    "ratios['r_amortizado_principal'] = ratios.imp_amortizado / ratios.principal\n",
    "ratios['r_recuperado_principal'] = ratios.imp_recuperado / ratios.principal"
   ]
  },
  {
   "cell_type": "code",
   "execution_count": 89,
   "id": "63d4590e",
   "metadata": {},
   "outputs": [
    {
     "data": {
      "text/html": [
       "<div>\n",
       "<style scoped>\n",
       "    .dataframe tbody tr th:only-of-type {\n",
       "        vertical-align: middle;\n",
       "    }\n",
       "\n",
       "    .dataframe tbody tr th {\n",
       "        vertical-align: top;\n",
       "    }\n",
       "\n",
       "    .dataframe thead th {\n",
       "        text-align: right;\n",
       "    }\n",
       "</style>\n",
       "<table border=\"1\" class=\"dataframe\">\n",
       "  <thead>\n",
       "    <tr style=\"text-align: right;\">\n",
       "      <th></th>\n",
       "      <th>count</th>\n",
       "      <th>mean</th>\n",
       "      <th>std</th>\n",
       "      <th>min</th>\n",
       "      <th>25%</th>\n",
       "      <th>50%</th>\n",
       "      <th>75%</th>\n",
       "      <th>max</th>\n",
       "    </tr>\n",
       "  </thead>\n",
       "  <tbody>\n",
       "    <tr>\n",
       "      <th>principal</th>\n",
       "      <td>139482.0</td>\n",
       "      <td>15016.367524</td>\n",
       "      <td>9163.323034</td>\n",
       "      <td>500.0</td>\n",
       "      <td>8000.000000</td>\n",
       "      <td>12800.00000</td>\n",
       "      <td>20000.0</td>\n",
       "      <td>40000.000000</td>\n",
       "    </tr>\n",
       "    <tr>\n",
       "      <th>imp_amortizado</th>\n",
       "      <td>139482.0</td>\n",
       "      <td>9486.001442</td>\n",
       "      <td>8283.467786</td>\n",
       "      <td>0.0</td>\n",
       "      <td>3013.490000</td>\n",
       "      <td>7000.00000</td>\n",
       "      <td>13800.0</td>\n",
       "      <td>40000.000000</td>\n",
       "    </tr>\n",
       "    <tr>\n",
       "      <th>imp_recuperado</th>\n",
       "      <td>139482.0</td>\n",
       "      <td>145.848589</td>\n",
       "      <td>767.540977</td>\n",
       "      <td>0.0</td>\n",
       "      <td>0.000000</td>\n",
       "      <td>0.00000</td>\n",
       "      <td>0.0</td>\n",
       "      <td>33407.160000</td>\n",
       "    </tr>\n",
       "    <tr>\n",
       "      <th>r_amortizado_principal</th>\n",
       "      <td>139482.0</td>\n",
       "      <td>0.662500</td>\n",
       "      <td>0.369130</td>\n",
       "      <td>0.0</td>\n",
       "      <td>0.274767</td>\n",
       "      <td>0.86915</td>\n",
       "      <td>1.0</td>\n",
       "      <td>1.000032</td>\n",
       "    </tr>\n",
       "    <tr>\n",
       "      <th>r_recuperado_principal</th>\n",
       "      <td>139482.0</td>\n",
       "      <td>0.009058</td>\n",
       "      <td>0.041633</td>\n",
       "      <td>0.0</td>\n",
       "      <td>0.000000</td>\n",
       "      <td>0.00000</td>\n",
       "      <td>0.0</td>\n",
       "      <td>1.207635</td>\n",
       "    </tr>\n",
       "  </tbody>\n",
       "</table>\n",
       "</div>"
      ],
      "text/plain": [
       "                           count          mean          std    min  \\\n",
       "principal               139482.0  15016.367524  9163.323034  500.0   \n",
       "imp_amortizado          139482.0   9486.001442  8283.467786    0.0   \n",
       "imp_recuperado          139482.0    145.848589   767.540977    0.0   \n",
       "r_amortizado_principal  139482.0      0.662500     0.369130    0.0   \n",
       "r_recuperado_principal  139482.0      0.009058     0.041633    0.0   \n",
       "\n",
       "                                25%          50%      75%           max  \n",
       "principal               8000.000000  12800.00000  20000.0  40000.000000  \n",
       "imp_amortizado          3013.490000   7000.00000  13800.0  40000.000000  \n",
       "imp_recuperado             0.000000      0.00000      0.0  33407.160000  \n",
       "r_amortizado_principal     0.274767      0.86915      1.0      1.000032  \n",
       "r_recuperado_principal     0.000000      0.00000      0.0      1.207635  "
      ]
     },
     "execution_count": 89,
     "metadata": {},
     "output_type": "execute_result"
    }
   ],
   "source": [
    "ratios.describe().T"
   ]
  },
  {
   "cell_type": "markdown",
   "id": "1a1c7788",
   "metadata": {},
   "source": [
    "Conclusiones:\n",
    "\n",
    "* En transformación convertir num_derogatorios a binaria\n",
    "* Revisar en profundidad la relación entre estado e imp_recuperado"
   ]
  },
  {
   "cell_type": "code",
   "execution_count": 90,
   "id": "14c55e6f",
   "metadata": {
    "scrolled": true
   },
   "outputs": [
    {
     "ename": "KeyError",
     "evalue": "\"None of [Index(['estado'], dtype='object')] are in the [columns]\"",
     "output_type": "error",
     "traceback": [
      "\u001b[1;31m---------------------------------------------------------------------------\u001b[0m",
      "\u001b[1;31mKeyError\u001b[0m                                  Traceback (most recent call last)",
      "Input \u001b[1;32mIn [90]\u001b[0m, in \u001b[0;36m<cell line: 1>\u001b[1;34m()\u001b[0m\n\u001b[1;32m----> 1\u001b[0m temp \u001b[38;5;241m=\u001b[39m \u001b[43mcat\u001b[49m\u001b[43m[\u001b[49m\u001b[43m[\u001b[49m\u001b[38;5;124;43m'\u001b[39;49m\u001b[38;5;124;43mestado\u001b[39;49m\u001b[38;5;124;43m'\u001b[39;49m\u001b[43m]\u001b[49m\u001b[43m]\u001b[49m\u001b[38;5;241m.\u001b[39mmerge(num[[\u001b[38;5;124m'\u001b[39m\u001b[38;5;124mimp_recuperado\u001b[39m\u001b[38;5;124m'\u001b[39m]], left_index\u001b[38;5;241m=\u001b[39m\u001b[38;5;28;01mTrue\u001b[39;00m, right_index\u001b[38;5;241m=\u001b[39m\u001b[38;5;28;01mTrue\u001b[39;00m)\n\u001b[0;32m      2\u001b[0m temp\u001b[38;5;241m.\u001b[39mgroupby(\u001b[38;5;124m'\u001b[39m\u001b[38;5;124mestado\u001b[39m\u001b[38;5;124m'\u001b[39m)\u001b[38;5;241m.\u001b[39mimp_recuperado\u001b[38;5;241m.\u001b[39mmean()\n",
      "File \u001b[1;32m~\\miniconda3\\envs\\riesgos\\lib\\site-packages\\pandas\\core\\frame.py:3511\u001b[0m, in \u001b[0;36mDataFrame.__getitem__\u001b[1;34m(self, key)\u001b[0m\n\u001b[0;32m   3509\u001b[0m     \u001b[38;5;28;01mif\u001b[39;00m is_iterator(key):\n\u001b[0;32m   3510\u001b[0m         key \u001b[38;5;241m=\u001b[39m \u001b[38;5;28mlist\u001b[39m(key)\n\u001b[1;32m-> 3511\u001b[0m     indexer \u001b[38;5;241m=\u001b[39m \u001b[38;5;28;43mself\u001b[39;49m\u001b[38;5;241;43m.\u001b[39;49m\u001b[43mcolumns\u001b[49m\u001b[38;5;241;43m.\u001b[39;49m\u001b[43m_get_indexer_strict\u001b[49m\u001b[43m(\u001b[49m\u001b[43mkey\u001b[49m\u001b[43m,\u001b[49m\u001b[43m \u001b[49m\u001b[38;5;124;43m\"\u001b[39;49m\u001b[38;5;124;43mcolumns\u001b[39;49m\u001b[38;5;124;43m\"\u001b[39;49m\u001b[43m)\u001b[49m[\u001b[38;5;241m1\u001b[39m]\n\u001b[0;32m   3513\u001b[0m \u001b[38;5;66;03m# take() does not accept boolean indexers\u001b[39;00m\n\u001b[0;32m   3514\u001b[0m \u001b[38;5;28;01mif\u001b[39;00m \u001b[38;5;28mgetattr\u001b[39m(indexer, \u001b[38;5;124m\"\u001b[39m\u001b[38;5;124mdtype\u001b[39m\u001b[38;5;124m\"\u001b[39m, \u001b[38;5;28;01mNone\u001b[39;00m) \u001b[38;5;241m==\u001b[39m \u001b[38;5;28mbool\u001b[39m:\n",
      "File \u001b[1;32m~\\miniconda3\\envs\\riesgos\\lib\\site-packages\\pandas\\core\\indexes\\base.py:5782\u001b[0m, in \u001b[0;36mIndex._get_indexer_strict\u001b[1;34m(self, key, axis_name)\u001b[0m\n\u001b[0;32m   5779\u001b[0m \u001b[38;5;28;01melse\u001b[39;00m:\n\u001b[0;32m   5780\u001b[0m     keyarr, indexer, new_indexer \u001b[38;5;241m=\u001b[39m \u001b[38;5;28mself\u001b[39m\u001b[38;5;241m.\u001b[39m_reindex_non_unique(keyarr)\n\u001b[1;32m-> 5782\u001b[0m \u001b[38;5;28;43mself\u001b[39;49m\u001b[38;5;241;43m.\u001b[39;49m\u001b[43m_raise_if_missing\u001b[49m\u001b[43m(\u001b[49m\u001b[43mkeyarr\u001b[49m\u001b[43m,\u001b[49m\u001b[43m \u001b[49m\u001b[43mindexer\u001b[49m\u001b[43m,\u001b[49m\u001b[43m \u001b[49m\u001b[43maxis_name\u001b[49m\u001b[43m)\u001b[49m\n\u001b[0;32m   5784\u001b[0m keyarr \u001b[38;5;241m=\u001b[39m \u001b[38;5;28mself\u001b[39m\u001b[38;5;241m.\u001b[39mtake(indexer)\n\u001b[0;32m   5785\u001b[0m \u001b[38;5;28;01mif\u001b[39;00m \u001b[38;5;28misinstance\u001b[39m(key, Index):\n\u001b[0;32m   5786\u001b[0m     \u001b[38;5;66;03m# GH 42790 - Preserve name from an Index\u001b[39;00m\n",
      "File \u001b[1;32m~\\miniconda3\\envs\\riesgos\\lib\\site-packages\\pandas\\core\\indexes\\base.py:5842\u001b[0m, in \u001b[0;36mIndex._raise_if_missing\u001b[1;34m(self, key, indexer, axis_name)\u001b[0m\n\u001b[0;32m   5840\u001b[0m     \u001b[38;5;28;01mif\u001b[39;00m use_interval_msg:\n\u001b[0;32m   5841\u001b[0m         key \u001b[38;5;241m=\u001b[39m \u001b[38;5;28mlist\u001b[39m(key)\n\u001b[1;32m-> 5842\u001b[0m     \u001b[38;5;28;01mraise\u001b[39;00m \u001b[38;5;167;01mKeyError\u001b[39;00m(\u001b[38;5;124mf\u001b[39m\u001b[38;5;124m\"\u001b[39m\u001b[38;5;124mNone of [\u001b[39m\u001b[38;5;132;01m{\u001b[39;00mkey\u001b[38;5;132;01m}\u001b[39;00m\u001b[38;5;124m] are in the [\u001b[39m\u001b[38;5;132;01m{\u001b[39;00maxis_name\u001b[38;5;132;01m}\u001b[39;00m\u001b[38;5;124m]\u001b[39m\u001b[38;5;124m\"\u001b[39m)\n\u001b[0;32m   5844\u001b[0m not_found \u001b[38;5;241m=\u001b[39m \u001b[38;5;28mlist\u001b[39m(ensure_index(key)[missing_mask\u001b[38;5;241m.\u001b[39mnonzero()[\u001b[38;5;241m0\u001b[39m]]\u001b[38;5;241m.\u001b[39munique())\n\u001b[0;32m   5845\u001b[0m \u001b[38;5;28;01mraise\u001b[39;00m \u001b[38;5;167;01mKeyError\u001b[39;00m(\u001b[38;5;124mf\u001b[39m\u001b[38;5;124m\"\u001b[39m\u001b[38;5;132;01m{\u001b[39;00mnot_found\u001b[38;5;132;01m}\u001b[39;00m\u001b[38;5;124m not in index\u001b[39m\u001b[38;5;124m\"\u001b[39m)\n",
      "\u001b[1;31mKeyError\u001b[0m: \"None of [Index(['estado'], dtype='object')] are in the [columns]\""
     ]
    }
   ],
   "source": [
    "temp = cat[['estado']].merge(num[['imp_recuperado']], left_index=True, right_index=True)\n",
    "temp.groupby('estado').imp_recuperado.mean()"
   ]
  },
  {
   "cell_type": "markdown",
   "id": "812cfa95",
   "metadata": {},
   "source": [
    "Efectivamente sólo hay importe recuperado en el estado Charged Off."
   ]
  },
  {
   "cell_type": "markdown",
   "id": "87434e0c",
   "metadata": {},
   "source": [
    "## GUARDAR DATASETS TRAS EDA"
   ]
  },
  {
   "cell_type": "markdown",
   "id": "7656ba95",
   "metadata": {},
   "source": [
    "Guarda los avances en cat y num con un sufijo para poder guardar o recuperar avances del proyecto.\n",
    "\n",
    "En formato pickle para no perder las modificaciones de metadatos.\n",
    "\n",
    "*NOTA: En algunos casos no hay cambios en los ficheros en esta fase, así que este paso es opcional.Pero si no guardas estos ficheros acuérdate de modificar la importación en el siguiente notebook.*"
   ]
  },
  {
   "cell_type": "code",
   "execution_count": null,
   "id": "782bf43c",
   "metadata": {},
   "outputs": [],
   "source": [
    "#Definir los nombres de los archivos\n",
    "ruta_cat = ruta_proyecto + '/02_Datos/03_Trabajo/' + 'cat_resultado_eda.pickle'\n",
    "ruta_num = ruta_proyecto + '/02_Datos/03_Trabajo/' + 'num_resultado_eda.pickle'"
   ]
  },
  {
   "cell_type": "code",
   "execution_count": null,
   "id": "44c7dd60",
   "metadata": {},
   "outputs": [],
   "source": [
    "#Guardar los archivos\n",
    "cat.to_pickle(ruta_cat)\n",
    "num.to_pickle(ruta_num)"
   ]
  },
  {
   "cell_type": "code",
   "execution_count": null,
   "id": "c995c19e-8325-4582-be04-3413b18a74bc",
   "metadata": {},
   "outputs": [],
   "source": [
    "num.num_cancelaciones_12meses.mean()\n",
    "\n"
   ]
  },
  {
   "cell_type": "code",
   "execution_count": null,
   "id": "22208e3a",
   "metadata": {},
   "outputs": [],
   "source": []
  }
 ],
 "metadata": {
  "kernelspec": {
   "display_name": "Python 3 (ipykernel)",
   "language": "python",
   "name": "python3"
  },
  "language_info": {
   "codemirror_mode": {
    "name": "ipython",
    "version": 3
   },
   "file_extension": ".py",
   "mimetype": "text/x-python",
   "name": "python",
   "nbconvert_exporter": "python",
   "pygments_lexer": "ipython3",
   "version": "3.13.1"
  },
  "toc": {
   "base_numbering": 1,
   "nav_menu": {},
   "number_sections": true,
   "sideBar": true,
   "skip_h1_title": false,
   "title_cell": "Table of Contents",
   "title_sidebar": "Contents",
   "toc_cell": false,
   "toc_position": {
    "height": "calc(100% - 180px)",
    "left": "10px",
    "top": "150px",
    "width": "253.95px"
   },
   "toc_section_display": true,
   "toc_window_display": true
  },
  "varInspector": {
   "cols": {
    "lenName": 16,
    "lenType": 16,
    "lenVar": 40
   },
   "kernels_config": {
    "python": {
     "delete_cmd_postfix": "",
     "delete_cmd_prefix": "del ",
     "library": "var_list.py",
     "varRefreshCmd": "print(var_dic_list())"
    },
    "r": {
     "delete_cmd_postfix": ") ",
     "delete_cmd_prefix": "rm(",
     "library": "var_list.r",
     "varRefreshCmd": "cat(var_dic_list()) "
    }
   },
   "position": {
    "height": "546.85px",
    "left": "680.75px",
    "right": "20px",
    "top": "118px",
    "width": "350px"
   },
   "types_to_exclude": [
    "module",
    "function",
    "builtin_function_or_method",
    "instance",
    "_Feature"
   ],
   "window_display": false
  }
 },
 "nbformat": 4,
 "nbformat_minor": 5
}
