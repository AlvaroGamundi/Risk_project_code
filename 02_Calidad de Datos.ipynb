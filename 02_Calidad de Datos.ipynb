{
 "cells": [
  {
   "cell_type": "markdown",
   "id": "d31dea65",
   "metadata": {},
   "source": [
    "# CALIDAD DE DATOS"
   ]
  },
  {
   "cell_type": "markdown",
   "id": "swiss-fault",
   "metadata": {},
   "source": [
    "## IMPORTAR PAQUETES"
   ]
  },
  {
   "cell_type": "code",
   "execution_count": 1,
   "id": "adjacent-toddler",
   "metadata": {},
   "outputs": [],
   "source": [
    "import numpy as np\n",
    "import pandas as pd\n",
    "from janitor import clean_names\n",
    "\n",
    "#Automcompletar rápido\n",
    "%config IPCompleter.greedy=True"
   ]
  },
  {
   "cell_type": "markdown",
   "id": "graduate-compensation",
   "metadata": {},
   "source": [
    "## IMPORTAR LOS DATOS"
   ]
  },
  {
   "cell_type": "markdown",
   "id": "38bb812b",
   "metadata": {},
   "source": [
    "Sustituir la ruta del proyecto."
   ]
  },
  {
   "cell_type": "code",
   "execution_count": 2,
   "id": "28c63848",
   "metadata": {},
   "outputs": [],
   "source": [
    "ruta_proyecto = 'C:/Users/alvar/Proyectos ML/03_RIESGOS'"
   ]
  },
  {
   "cell_type": "markdown",
   "id": "ba473b09",
   "metadata": {},
   "source": [
    "Sustituir el nombre_fichero_datos."
   ]
  },
  {
   "cell_type": "code",
   "execution_count": 3,
   "id": "5d9dc5ea",
   "metadata": {},
   "outputs": [],
   "source": [
    "nombre_fichero_datos = 'trabajo.csv'"
   ]
  },
  {
   "cell_type": "markdown",
   "id": "ae75bf0b",
   "metadata": {},
   "source": [
    "Cargar los datos."
   ]
  },
  {
   "cell_type": "code",
   "execution_count": 4,
   "id": "24ff453b",
   "metadata": {},
   "outputs": [
    {
     "data": {
      "text/html": [
       "<div>\n",
       "<style scoped>\n",
       "    .dataframe tbody tr th:only-of-type {\n",
       "        vertical-align: middle;\n",
       "    }\n",
       "\n",
       "    .dataframe tbody tr th {\n",
       "        vertical-align: top;\n",
       "    }\n",
       "\n",
       "    .dataframe thead th {\n",
       "        text-align: right;\n",
       "    }\n",
       "</style>\n",
       "<table border=\"1\" class=\"dataframe\">\n",
       "  <thead>\n",
       "    <tr style=\"text-align: right;\">\n",
       "      <th></th>\n",
       "      <th>Unnamed: 0</th>\n",
       "      <th>empleo</th>\n",
       "      <th>antigüedad_empleo</th>\n",
       "      <th>ingresos</th>\n",
       "      <th>ingresos_verificados</th>\n",
       "      <th>rating</th>\n",
       "      <th>dti</th>\n",
       "      <th>vivienda</th>\n",
       "      <th>num_hipotecas</th>\n",
       "      <th>num_lineas_credito</th>\n",
       "      <th>...</th>\n",
       "      <th>id_prestamo</th>\n",
       "      <th>descripcion</th>\n",
       "      <th>finalidad</th>\n",
       "      <th>principal</th>\n",
       "      <th>tipo_interes</th>\n",
       "      <th>num_cuotas</th>\n",
       "      <th>imp_cuota</th>\n",
       "      <th>imp_amortizado</th>\n",
       "      <th>estado</th>\n",
       "      <th>imp_recuperado</th>\n",
       "    </tr>\n",
       "    <tr>\n",
       "      <th>id_cliente</th>\n",
       "      <th></th>\n",
       "      <th></th>\n",
       "      <th></th>\n",
       "      <th></th>\n",
       "      <th></th>\n",
       "      <th></th>\n",
       "      <th></th>\n",
       "      <th></th>\n",
       "      <th></th>\n",
       "      <th></th>\n",
       "      <th></th>\n",
       "      <th></th>\n",
       "      <th></th>\n",
       "      <th></th>\n",
       "      <th></th>\n",
       "      <th></th>\n",
       "      <th></th>\n",
       "      <th></th>\n",
       "      <th></th>\n",
       "      <th></th>\n",
       "      <th></th>\n",
       "    </tr>\n",
       "  </thead>\n",
       "  <tbody>\n",
       "    <tr>\n",
       "      <th>137387967</th>\n",
       "      <td>0</td>\n",
       "      <td>Hvac technician</td>\n",
       "      <td>3 years</td>\n",
       "      <td>54000.0</td>\n",
       "      <td>Source Verified</td>\n",
       "      <td>A</td>\n",
       "      <td>19.31</td>\n",
       "      <td>MORTGAGE</td>\n",
       "      <td>2.0</td>\n",
       "      <td>10.0</td>\n",
       "      <td>...</td>\n",
       "      <td>NaN</td>\n",
       "      <td>NaN</td>\n",
       "      <td>debt_consolidation</td>\n",
       "      <td>15000.0</td>\n",
       "      <td>7.21</td>\n",
       "      <td>36 months</td>\n",
       "      <td>464.60</td>\n",
       "      <td>2669.06</td>\n",
       "      <td>Current</td>\n",
       "      <td>0.00</td>\n",
       "    </tr>\n",
       "    <tr>\n",
       "      <th>132883631</th>\n",
       "      <td>4</td>\n",
       "      <td>Subsea Technician</td>\n",
       "      <td>7 years</td>\n",
       "      <td>125000.0</td>\n",
       "      <td>Source Verified</td>\n",
       "      <td>B</td>\n",
       "      <td>9.00</td>\n",
       "      <td>MORTGAGE</td>\n",
       "      <td>1.0</td>\n",
       "      <td>6.0</td>\n",
       "      <td>...</td>\n",
       "      <td>NaN</td>\n",
       "      <td>NaN</td>\n",
       "      <td>debt_consolidation</td>\n",
       "      <td>22000.0</td>\n",
       "      <td>10.90</td>\n",
       "      <td>36 months</td>\n",
       "      <td>719.22</td>\n",
       "      <td>22000.00</td>\n",
       "      <td>Fully Paid</td>\n",
       "      <td>0.00</td>\n",
       "    </tr>\n",
       "    <tr>\n",
       "      <th>131289518</th>\n",
       "      <td>5</td>\n",
       "      <td>NaN</td>\n",
       "      <td>10+ years</td>\n",
       "      <td>72777.0</td>\n",
       "      <td>Source Verified</td>\n",
       "      <td>D</td>\n",
       "      <td>24.74</td>\n",
       "      <td>MORTGAGE</td>\n",
       "      <td>2.0</td>\n",
       "      <td>10.0</td>\n",
       "      <td>...</td>\n",
       "      <td>NaN</td>\n",
       "      <td>NaN</td>\n",
       "      <td>home_improvement</td>\n",
       "      <td>25000.0</td>\n",
       "      <td>21.85</td>\n",
       "      <td>60 months</td>\n",
       "      <td>688.35</td>\n",
       "      <td>2811.27</td>\n",
       "      <td>Current</td>\n",
       "      <td>0.00</td>\n",
       "    </tr>\n",
       "    <tr>\n",
       "      <th>77861711</th>\n",
       "      <td>6</td>\n",
       "      <td>Correctional officer</td>\n",
       "      <td>10+ years</td>\n",
       "      <td>50000.0</td>\n",
       "      <td>Verified</td>\n",
       "      <td>C</td>\n",
       "      <td>29.31</td>\n",
       "      <td>MORTGAGE</td>\n",
       "      <td>1.0</td>\n",
       "      <td>8.0</td>\n",
       "      <td>...</td>\n",
       "      <td>NaN</td>\n",
       "      <td>NaN</td>\n",
       "      <td>debt_consolidation</td>\n",
       "      <td>14400.0</td>\n",
       "      <td>15.31</td>\n",
       "      <td>36 months</td>\n",
       "      <td>501.37</td>\n",
       "      <td>2310.49</td>\n",
       "      <td>Charged Off</td>\n",
       "      <td>6430.36</td>\n",
       "    </tr>\n",
       "    <tr>\n",
       "      <th>103448519</th>\n",
       "      <td>7</td>\n",
       "      <td>Web site administrator</td>\n",
       "      <td>10+ years</td>\n",
       "      <td>99800.0</td>\n",
       "      <td>Not Verified</td>\n",
       "      <td>A</td>\n",
       "      <td>9.69</td>\n",
       "      <td>MORTGAGE</td>\n",
       "      <td>0.0</td>\n",
       "      <td>8.0</td>\n",
       "      <td>...</td>\n",
       "      <td>NaN</td>\n",
       "      <td>NaN</td>\n",
       "      <td>credit_card</td>\n",
       "      <td>9600.0</td>\n",
       "      <td>5.32</td>\n",
       "      <td>36 months</td>\n",
       "      <td>289.11</td>\n",
       "      <td>6228.92</td>\n",
       "      <td>Current</td>\n",
       "      <td>0.00</td>\n",
       "    </tr>\n",
       "    <tr>\n",
       "      <th>...</th>\n",
       "      <td>...</td>\n",
       "      <td>...</td>\n",
       "      <td>...</td>\n",
       "      <td>...</td>\n",
       "      <td>...</td>\n",
       "      <td>...</td>\n",
       "      <td>...</td>\n",
       "      <td>...</td>\n",
       "      <td>...</td>\n",
       "      <td>...</td>\n",
       "      <td>...</td>\n",
       "      <td>...</td>\n",
       "      <td>...</td>\n",
       "      <td>...</td>\n",
       "      <td>...</td>\n",
       "      <td>...</td>\n",
       "      <td>...</td>\n",
       "      <td>...</td>\n",
       "      <td>...</td>\n",
       "      <td>...</td>\n",
       "      <td>...</td>\n",
       "    </tr>\n",
       "    <tr>\n",
       "      <th>51876926</th>\n",
       "      <td>199995</td>\n",
       "      <td>Office Manager</td>\n",
       "      <td>10+ years</td>\n",
       "      <td>42000.0</td>\n",
       "      <td>Not Verified</td>\n",
       "      <td>C</td>\n",
       "      <td>20.85</td>\n",
       "      <td>MORTGAGE</td>\n",
       "      <td>6.0</td>\n",
       "      <td>9.0</td>\n",
       "      <td>...</td>\n",
       "      <td>NaN</td>\n",
       "      <td>NaN</td>\n",
       "      <td>debt_consolidation</td>\n",
       "      <td>8000.0</td>\n",
       "      <td>12.29</td>\n",
       "      <td>36 months</td>\n",
       "      <td>266.83</td>\n",
       "      <td>8000.00</td>\n",
       "      <td>Fully Paid</td>\n",
       "      <td>0.00</td>\n",
       "    </tr>\n",
       "    <tr>\n",
       "      <th>121031962</th>\n",
       "      <td>199996</td>\n",
       "      <td>Owner &amp; President</td>\n",
       "      <td>6 years</td>\n",
       "      <td>111697.0</td>\n",
       "      <td>Verified</td>\n",
       "      <td>B</td>\n",
       "      <td>16.63</td>\n",
       "      <td>MORTGAGE</td>\n",
       "      <td>2.0</td>\n",
       "      <td>10.0</td>\n",
       "      <td>...</td>\n",
       "      <td>NaN</td>\n",
       "      <td>NaN</td>\n",
       "      <td>other</td>\n",
       "      <td>10000.0</td>\n",
       "      <td>9.44</td>\n",
       "      <td>36 months</td>\n",
       "      <td>320.05</td>\n",
       "      <td>4388.51</td>\n",
       "      <td>Current</td>\n",
       "      <td>0.00</td>\n",
       "    </tr>\n",
       "    <tr>\n",
       "      <th>135641397</th>\n",
       "      <td>199997</td>\n",
       "      <td>Sr. Field Engineer</td>\n",
       "      <td>10+ years</td>\n",
       "      <td>285000.0</td>\n",
       "      <td>Source Verified</td>\n",
       "      <td>D</td>\n",
       "      <td>6.02</td>\n",
       "      <td>MORTGAGE</td>\n",
       "      <td>3.0</td>\n",
       "      <td>9.0</td>\n",
       "      <td>...</td>\n",
       "      <td>NaN</td>\n",
       "      <td>NaN</td>\n",
       "      <td>small_business</td>\n",
       "      <td>30000.0</td>\n",
       "      <td>17.47</td>\n",
       "      <td>36 months</td>\n",
       "      <td>1076.62</td>\n",
       "      <td>5387.53</td>\n",
       "      <td>Current</td>\n",
       "      <td>0.00</td>\n",
       "    </tr>\n",
       "    <tr>\n",
       "      <th>53664762</th>\n",
       "      <td>199998</td>\n",
       "      <td>Attorney</td>\n",
       "      <td>8 years</td>\n",
       "      <td>168000.0</td>\n",
       "      <td>Source Verified</td>\n",
       "      <td>E</td>\n",
       "      <td>4.69</td>\n",
       "      <td>RENT</td>\n",
       "      <td>0.0</td>\n",
       "      <td>8.0</td>\n",
       "      <td>...</td>\n",
       "      <td>NaN</td>\n",
       "      <td>NaN</td>\n",
       "      <td>small_business</td>\n",
       "      <td>30050.0</td>\n",
       "      <td>18.25</td>\n",
       "      <td>60 months</td>\n",
       "      <td>767.17</td>\n",
       "      <td>2964.44</td>\n",
       "      <td>Charged Off</td>\n",
       "      <td>2750.88</td>\n",
       "    </tr>\n",
       "    <tr>\n",
       "      <th>94394801</th>\n",
       "      <td>199999</td>\n",
       "      <td>NaN</td>\n",
       "      <td>NaN</td>\n",
       "      <td>80000.0</td>\n",
       "      <td>Not Verified</td>\n",
       "      <td>C</td>\n",
       "      <td>31.49</td>\n",
       "      <td>MORTGAGE</td>\n",
       "      <td>1.0</td>\n",
       "      <td>9.0</td>\n",
       "      <td>...</td>\n",
       "      <td>NaN</td>\n",
       "      <td>NaN</td>\n",
       "      <td>debt_consolidation</td>\n",
       "      <td>10000.0</td>\n",
       "      <td>13.99</td>\n",
       "      <td>36 months</td>\n",
       "      <td>341.73</td>\n",
       "      <td>7096.40</td>\n",
       "      <td>Current</td>\n",
       "      <td>0.00</td>\n",
       "    </tr>\n",
       "  </tbody>\n",
       "</table>\n",
       "<p>140000 rows × 25 columns</p>\n",
       "</div>"
      ],
      "text/plain": [
       "            Unnamed: 0                   empleo antigüedad_empleo  ingresos  \\\n",
       "id_cliente                                                                    \n",
       "137387967            0         Hvac technician            3 years   54000.0   \n",
       "132883631            4        Subsea Technician           7 years  125000.0   \n",
       "131289518            5                      NaN         10+ years   72777.0   \n",
       "77861711             6     Correctional officer         10+ years   50000.0   \n",
       "103448519            7  Web site administrator          10+ years   99800.0   \n",
       "...                ...                      ...               ...       ...   \n",
       "51876926        199995           Office Manager         10+ years   42000.0   \n",
       "121031962       199996        Owner & President           6 years  111697.0   \n",
       "135641397       199997       Sr. Field Engineer         10+ years  285000.0   \n",
       "53664762        199998                 Attorney           8 years  168000.0   \n",
       "94394801        199999                      NaN               NaN   80000.0   \n",
       "\n",
       "           ingresos_verificados rating    dti  vivienda  num_hipotecas  \\\n",
       "id_cliente                                                               \n",
       "137387967       Source Verified      A  19.31  MORTGAGE            2.0   \n",
       "132883631       Source Verified      B   9.00  MORTGAGE            1.0   \n",
       "131289518       Source Verified      D  24.74  MORTGAGE            2.0   \n",
       "77861711               Verified      C  29.31  MORTGAGE            1.0   \n",
       "103448519          Not Verified      A   9.69  MORTGAGE            0.0   \n",
       "...                         ...    ...    ...       ...            ...   \n",
       "51876926           Not Verified      C  20.85  MORTGAGE            6.0   \n",
       "121031962              Verified      B  16.63  MORTGAGE            2.0   \n",
       "135641397       Source Verified      D   6.02  MORTGAGE            3.0   \n",
       "53664762        Source Verified      E   4.69      RENT            0.0   \n",
       "94394801           Not Verified      C  31.49  MORTGAGE            1.0   \n",
       "\n",
       "            num_lineas_credito  ...  id_prestamo  descripcion  \\\n",
       "id_cliente                      ...                             \n",
       "137387967                 10.0  ...          NaN          NaN   \n",
       "132883631                  6.0  ...          NaN          NaN   \n",
       "131289518                 10.0  ...          NaN          NaN   \n",
       "77861711                   8.0  ...          NaN          NaN   \n",
       "103448519                  8.0  ...          NaN          NaN   \n",
       "...                        ...  ...          ...          ...   \n",
       "51876926                   9.0  ...          NaN          NaN   \n",
       "121031962                 10.0  ...          NaN          NaN   \n",
       "135641397                  9.0  ...          NaN          NaN   \n",
       "53664762                   8.0  ...          NaN          NaN   \n",
       "94394801                   9.0  ...          NaN          NaN   \n",
       "\n",
       "                     finalidad  principal  tipo_interes  num_cuotas imp_cuota  \\\n",
       "id_cliente                                                                      \n",
       "137387967   debt_consolidation    15000.0          7.21   36 months    464.60   \n",
       "132883631   debt_consolidation    22000.0         10.90   36 months    719.22   \n",
       "131289518     home_improvement    25000.0         21.85   60 months    688.35   \n",
       "77861711    debt_consolidation    14400.0         15.31   36 months    501.37   \n",
       "103448519          credit_card     9600.0          5.32   36 months    289.11   \n",
       "...                        ...        ...           ...         ...       ...   \n",
       "51876926    debt_consolidation     8000.0         12.29   36 months    266.83   \n",
       "121031962                other    10000.0          9.44   36 months    320.05   \n",
       "135641397       small_business    30000.0         17.47   36 months   1076.62   \n",
       "53664762        small_business    30050.0         18.25   60 months    767.17   \n",
       "94394801    debt_consolidation    10000.0         13.99   36 months    341.73   \n",
       "\n",
       "           imp_amortizado       estado  imp_recuperado  \n",
       "id_cliente                                              \n",
       "137387967         2669.06      Current            0.00  \n",
       "132883631        22000.00   Fully Paid            0.00  \n",
       "131289518         2811.27      Current            0.00  \n",
       "77861711          2310.49  Charged Off         6430.36  \n",
       "103448519         6228.92      Current            0.00  \n",
       "...                   ...          ...             ...  \n",
       "51876926          8000.00   Fully Paid            0.00  \n",
       "121031962         4388.51      Current            0.00  \n",
       "135641397         5387.53      Current            0.00  \n",
       "53664762          2964.44  Charged Off         2750.88  \n",
       "94394801          7096.40      Current            0.00  \n",
       "\n",
       "[140000 rows x 25 columns]"
      ]
     },
     "execution_count": 4,
     "metadata": {},
     "output_type": "execute_result"
    }
   ],
   "source": [
    "ruta_completa = ruta_proyecto + '/02_Datos/03_Trabajo/' + nombre_fichero_datos\n",
    "\n",
    "df = pd.read_csv(ruta_completa,index_col=['id_cliente'])\n",
    "df"
   ]
  },
  {
   "cell_type": "markdown",
   "id": "9790d322",
   "metadata": {},
   "source": [
    "## CORRECCIÓN DE NOMBRES DE VARIABLES"
   ]
  },
  {
   "cell_type": "markdown",
   "id": "f1fa5201",
   "metadata": {},
   "source": [
    "### Corrección automática"
   ]
  },
  {
   "cell_type": "code",
   "execution_count": 5,
   "id": "02607b69",
   "metadata": {},
   "outputs": [
    {
     "data": {
      "text/html": [
       "<div>\n",
       "<style scoped>\n",
       "    .dataframe tbody tr th:only-of-type {\n",
       "        vertical-align: middle;\n",
       "    }\n",
       "\n",
       "    .dataframe tbody tr th {\n",
       "        vertical-align: top;\n",
       "    }\n",
       "\n",
       "    .dataframe thead th {\n",
       "        text-align: right;\n",
       "    }\n",
       "</style>\n",
       "<table border=\"1\" class=\"dataframe\">\n",
       "  <thead>\n",
       "    <tr style=\"text-align: right;\">\n",
       "      <th></th>\n",
       "      <th>unnamed_0</th>\n",
       "      <th>empleo</th>\n",
       "      <th>antiguedad_empleo</th>\n",
       "      <th>ingresos</th>\n",
       "      <th>ingresos_verificados</th>\n",
       "      <th>rating</th>\n",
       "      <th>dti</th>\n",
       "      <th>vivienda</th>\n",
       "      <th>num_hipotecas</th>\n",
       "      <th>num_lineas_credito</th>\n",
       "      <th>...</th>\n",
       "      <th>id_prestamo</th>\n",
       "      <th>descripcion</th>\n",
       "      <th>finalidad</th>\n",
       "      <th>principal</th>\n",
       "      <th>tipo_interes</th>\n",
       "      <th>num_cuotas</th>\n",
       "      <th>imp_cuota</th>\n",
       "      <th>imp_amortizado</th>\n",
       "      <th>estado</th>\n",
       "      <th>imp_recuperado</th>\n",
       "    </tr>\n",
       "    <tr>\n",
       "      <th>id_cliente</th>\n",
       "      <th></th>\n",
       "      <th></th>\n",
       "      <th></th>\n",
       "      <th></th>\n",
       "      <th></th>\n",
       "      <th></th>\n",
       "      <th></th>\n",
       "      <th></th>\n",
       "      <th></th>\n",
       "      <th></th>\n",
       "      <th></th>\n",
       "      <th></th>\n",
       "      <th></th>\n",
       "      <th></th>\n",
       "      <th></th>\n",
       "      <th></th>\n",
       "      <th></th>\n",
       "      <th></th>\n",
       "      <th></th>\n",
       "      <th></th>\n",
       "      <th></th>\n",
       "    </tr>\n",
       "  </thead>\n",
       "  <tbody>\n",
       "    <tr>\n",
       "      <th>137387967</th>\n",
       "      <td>0</td>\n",
       "      <td>Hvac technician</td>\n",
       "      <td>3 years</td>\n",
       "      <td>54000.0</td>\n",
       "      <td>Source Verified</td>\n",
       "      <td>A</td>\n",
       "      <td>19.31</td>\n",
       "      <td>MORTGAGE</td>\n",
       "      <td>2.0</td>\n",
       "      <td>10.0</td>\n",
       "      <td>...</td>\n",
       "      <td>NaN</td>\n",
       "      <td>NaN</td>\n",
       "      <td>debt_consolidation</td>\n",
       "      <td>15000.0</td>\n",
       "      <td>7.21</td>\n",
       "      <td>36 months</td>\n",
       "      <td>464.60</td>\n",
       "      <td>2669.06</td>\n",
       "      <td>Current</td>\n",
       "      <td>0.00</td>\n",
       "    </tr>\n",
       "    <tr>\n",
       "      <th>132883631</th>\n",
       "      <td>4</td>\n",
       "      <td>Subsea Technician</td>\n",
       "      <td>7 years</td>\n",
       "      <td>125000.0</td>\n",
       "      <td>Source Verified</td>\n",
       "      <td>B</td>\n",
       "      <td>9.00</td>\n",
       "      <td>MORTGAGE</td>\n",
       "      <td>1.0</td>\n",
       "      <td>6.0</td>\n",
       "      <td>...</td>\n",
       "      <td>NaN</td>\n",
       "      <td>NaN</td>\n",
       "      <td>debt_consolidation</td>\n",
       "      <td>22000.0</td>\n",
       "      <td>10.90</td>\n",
       "      <td>36 months</td>\n",
       "      <td>719.22</td>\n",
       "      <td>22000.00</td>\n",
       "      <td>Fully Paid</td>\n",
       "      <td>0.00</td>\n",
       "    </tr>\n",
       "    <tr>\n",
       "      <th>131289518</th>\n",
       "      <td>5</td>\n",
       "      <td>NaN</td>\n",
       "      <td>10+ years</td>\n",
       "      <td>72777.0</td>\n",
       "      <td>Source Verified</td>\n",
       "      <td>D</td>\n",
       "      <td>24.74</td>\n",
       "      <td>MORTGAGE</td>\n",
       "      <td>2.0</td>\n",
       "      <td>10.0</td>\n",
       "      <td>...</td>\n",
       "      <td>NaN</td>\n",
       "      <td>NaN</td>\n",
       "      <td>home_improvement</td>\n",
       "      <td>25000.0</td>\n",
       "      <td>21.85</td>\n",
       "      <td>60 months</td>\n",
       "      <td>688.35</td>\n",
       "      <td>2811.27</td>\n",
       "      <td>Current</td>\n",
       "      <td>0.00</td>\n",
       "    </tr>\n",
       "    <tr>\n",
       "      <th>77861711</th>\n",
       "      <td>6</td>\n",
       "      <td>Correctional officer</td>\n",
       "      <td>10+ years</td>\n",
       "      <td>50000.0</td>\n",
       "      <td>Verified</td>\n",
       "      <td>C</td>\n",
       "      <td>29.31</td>\n",
       "      <td>MORTGAGE</td>\n",
       "      <td>1.0</td>\n",
       "      <td>8.0</td>\n",
       "      <td>...</td>\n",
       "      <td>NaN</td>\n",
       "      <td>NaN</td>\n",
       "      <td>debt_consolidation</td>\n",
       "      <td>14400.0</td>\n",
       "      <td>15.31</td>\n",
       "      <td>36 months</td>\n",
       "      <td>501.37</td>\n",
       "      <td>2310.49</td>\n",
       "      <td>Charged Off</td>\n",
       "      <td>6430.36</td>\n",
       "    </tr>\n",
       "    <tr>\n",
       "      <th>103448519</th>\n",
       "      <td>7</td>\n",
       "      <td>Web site administrator</td>\n",
       "      <td>10+ years</td>\n",
       "      <td>99800.0</td>\n",
       "      <td>Not Verified</td>\n",
       "      <td>A</td>\n",
       "      <td>9.69</td>\n",
       "      <td>MORTGAGE</td>\n",
       "      <td>0.0</td>\n",
       "      <td>8.0</td>\n",
       "      <td>...</td>\n",
       "      <td>NaN</td>\n",
       "      <td>NaN</td>\n",
       "      <td>credit_card</td>\n",
       "      <td>9600.0</td>\n",
       "      <td>5.32</td>\n",
       "      <td>36 months</td>\n",
       "      <td>289.11</td>\n",
       "      <td>6228.92</td>\n",
       "      <td>Current</td>\n",
       "      <td>0.00</td>\n",
       "    </tr>\n",
       "    <tr>\n",
       "      <th>...</th>\n",
       "      <td>...</td>\n",
       "      <td>...</td>\n",
       "      <td>...</td>\n",
       "      <td>...</td>\n",
       "      <td>...</td>\n",
       "      <td>...</td>\n",
       "      <td>...</td>\n",
       "      <td>...</td>\n",
       "      <td>...</td>\n",
       "      <td>...</td>\n",
       "      <td>...</td>\n",
       "      <td>...</td>\n",
       "      <td>...</td>\n",
       "      <td>...</td>\n",
       "      <td>...</td>\n",
       "      <td>...</td>\n",
       "      <td>...</td>\n",
       "      <td>...</td>\n",
       "      <td>...</td>\n",
       "      <td>...</td>\n",
       "      <td>...</td>\n",
       "    </tr>\n",
       "    <tr>\n",
       "      <th>51876926</th>\n",
       "      <td>199995</td>\n",
       "      <td>Office Manager</td>\n",
       "      <td>10+ years</td>\n",
       "      <td>42000.0</td>\n",
       "      <td>Not Verified</td>\n",
       "      <td>C</td>\n",
       "      <td>20.85</td>\n",
       "      <td>MORTGAGE</td>\n",
       "      <td>6.0</td>\n",
       "      <td>9.0</td>\n",
       "      <td>...</td>\n",
       "      <td>NaN</td>\n",
       "      <td>NaN</td>\n",
       "      <td>debt_consolidation</td>\n",
       "      <td>8000.0</td>\n",
       "      <td>12.29</td>\n",
       "      <td>36 months</td>\n",
       "      <td>266.83</td>\n",
       "      <td>8000.00</td>\n",
       "      <td>Fully Paid</td>\n",
       "      <td>0.00</td>\n",
       "    </tr>\n",
       "    <tr>\n",
       "      <th>121031962</th>\n",
       "      <td>199996</td>\n",
       "      <td>Owner &amp; President</td>\n",
       "      <td>6 years</td>\n",
       "      <td>111697.0</td>\n",
       "      <td>Verified</td>\n",
       "      <td>B</td>\n",
       "      <td>16.63</td>\n",
       "      <td>MORTGAGE</td>\n",
       "      <td>2.0</td>\n",
       "      <td>10.0</td>\n",
       "      <td>...</td>\n",
       "      <td>NaN</td>\n",
       "      <td>NaN</td>\n",
       "      <td>other</td>\n",
       "      <td>10000.0</td>\n",
       "      <td>9.44</td>\n",
       "      <td>36 months</td>\n",
       "      <td>320.05</td>\n",
       "      <td>4388.51</td>\n",
       "      <td>Current</td>\n",
       "      <td>0.00</td>\n",
       "    </tr>\n",
       "    <tr>\n",
       "      <th>135641397</th>\n",
       "      <td>199997</td>\n",
       "      <td>Sr. Field Engineer</td>\n",
       "      <td>10+ years</td>\n",
       "      <td>285000.0</td>\n",
       "      <td>Source Verified</td>\n",
       "      <td>D</td>\n",
       "      <td>6.02</td>\n",
       "      <td>MORTGAGE</td>\n",
       "      <td>3.0</td>\n",
       "      <td>9.0</td>\n",
       "      <td>...</td>\n",
       "      <td>NaN</td>\n",
       "      <td>NaN</td>\n",
       "      <td>small_business</td>\n",
       "      <td>30000.0</td>\n",
       "      <td>17.47</td>\n",
       "      <td>36 months</td>\n",
       "      <td>1076.62</td>\n",
       "      <td>5387.53</td>\n",
       "      <td>Current</td>\n",
       "      <td>0.00</td>\n",
       "    </tr>\n",
       "    <tr>\n",
       "      <th>53664762</th>\n",
       "      <td>199998</td>\n",
       "      <td>Attorney</td>\n",
       "      <td>8 years</td>\n",
       "      <td>168000.0</td>\n",
       "      <td>Source Verified</td>\n",
       "      <td>E</td>\n",
       "      <td>4.69</td>\n",
       "      <td>RENT</td>\n",
       "      <td>0.0</td>\n",
       "      <td>8.0</td>\n",
       "      <td>...</td>\n",
       "      <td>NaN</td>\n",
       "      <td>NaN</td>\n",
       "      <td>small_business</td>\n",
       "      <td>30050.0</td>\n",
       "      <td>18.25</td>\n",
       "      <td>60 months</td>\n",
       "      <td>767.17</td>\n",
       "      <td>2964.44</td>\n",
       "      <td>Charged Off</td>\n",
       "      <td>2750.88</td>\n",
       "    </tr>\n",
       "    <tr>\n",
       "      <th>94394801</th>\n",
       "      <td>199999</td>\n",
       "      <td>NaN</td>\n",
       "      <td>NaN</td>\n",
       "      <td>80000.0</td>\n",
       "      <td>Not Verified</td>\n",
       "      <td>C</td>\n",
       "      <td>31.49</td>\n",
       "      <td>MORTGAGE</td>\n",
       "      <td>1.0</td>\n",
       "      <td>9.0</td>\n",
       "      <td>...</td>\n",
       "      <td>NaN</td>\n",
       "      <td>NaN</td>\n",
       "      <td>debt_consolidation</td>\n",
       "      <td>10000.0</td>\n",
       "      <td>13.99</td>\n",
       "      <td>36 months</td>\n",
       "      <td>341.73</td>\n",
       "      <td>7096.40</td>\n",
       "      <td>Current</td>\n",
       "      <td>0.00</td>\n",
       "    </tr>\n",
       "  </tbody>\n",
       "</table>\n",
       "<p>140000 rows × 25 columns</p>\n",
       "</div>"
      ],
      "text/plain": [
       "            unnamed_0                   empleo antiguedad_empleo  ingresos  \\\n",
       "id_cliente                                                                   \n",
       "137387967           0         Hvac technician            3 years   54000.0   \n",
       "132883631           4        Subsea Technician           7 years  125000.0   \n",
       "131289518           5                      NaN         10+ years   72777.0   \n",
       "77861711            6     Correctional officer         10+ years   50000.0   \n",
       "103448519           7  Web site administrator          10+ years   99800.0   \n",
       "...               ...                      ...               ...       ...   \n",
       "51876926       199995           Office Manager         10+ years   42000.0   \n",
       "121031962      199996        Owner & President           6 years  111697.0   \n",
       "135641397      199997       Sr. Field Engineer         10+ years  285000.0   \n",
       "53664762       199998                 Attorney           8 years  168000.0   \n",
       "94394801       199999                      NaN               NaN   80000.0   \n",
       "\n",
       "           ingresos_verificados rating    dti  vivienda  num_hipotecas  \\\n",
       "id_cliente                                                               \n",
       "137387967       Source Verified      A  19.31  MORTGAGE            2.0   \n",
       "132883631       Source Verified      B   9.00  MORTGAGE            1.0   \n",
       "131289518       Source Verified      D  24.74  MORTGAGE            2.0   \n",
       "77861711               Verified      C  29.31  MORTGAGE            1.0   \n",
       "103448519          Not Verified      A   9.69  MORTGAGE            0.0   \n",
       "...                         ...    ...    ...       ...            ...   \n",
       "51876926           Not Verified      C  20.85  MORTGAGE            6.0   \n",
       "121031962              Verified      B  16.63  MORTGAGE            2.0   \n",
       "135641397       Source Verified      D   6.02  MORTGAGE            3.0   \n",
       "53664762        Source Verified      E   4.69      RENT            0.0   \n",
       "94394801           Not Verified      C  31.49  MORTGAGE            1.0   \n",
       "\n",
       "            num_lineas_credito  ...  id_prestamo  descripcion  \\\n",
       "id_cliente                      ...                             \n",
       "137387967                 10.0  ...          NaN          NaN   \n",
       "132883631                  6.0  ...          NaN          NaN   \n",
       "131289518                 10.0  ...          NaN          NaN   \n",
       "77861711                   8.0  ...          NaN          NaN   \n",
       "103448519                  8.0  ...          NaN          NaN   \n",
       "...                        ...  ...          ...          ...   \n",
       "51876926                   9.0  ...          NaN          NaN   \n",
       "121031962                 10.0  ...          NaN          NaN   \n",
       "135641397                  9.0  ...          NaN          NaN   \n",
       "53664762                   8.0  ...          NaN          NaN   \n",
       "94394801                   9.0  ...          NaN          NaN   \n",
       "\n",
       "                     finalidad  principal  tipo_interes  num_cuotas imp_cuota  \\\n",
       "id_cliente                                                                      \n",
       "137387967   debt_consolidation    15000.0          7.21   36 months    464.60   \n",
       "132883631   debt_consolidation    22000.0         10.90   36 months    719.22   \n",
       "131289518     home_improvement    25000.0         21.85   60 months    688.35   \n",
       "77861711    debt_consolidation    14400.0         15.31   36 months    501.37   \n",
       "103448519          credit_card     9600.0          5.32   36 months    289.11   \n",
       "...                        ...        ...           ...         ...       ...   \n",
       "51876926    debt_consolidation     8000.0         12.29   36 months    266.83   \n",
       "121031962                other    10000.0          9.44   36 months    320.05   \n",
       "135641397       small_business    30000.0         17.47   36 months   1076.62   \n",
       "53664762        small_business    30050.0         18.25   60 months    767.17   \n",
       "94394801    debt_consolidation    10000.0         13.99   36 months    341.73   \n",
       "\n",
       "           imp_amortizado       estado  imp_recuperado  \n",
       "id_cliente                                              \n",
       "137387967         2669.06      Current            0.00  \n",
       "132883631        22000.00   Fully Paid            0.00  \n",
       "131289518         2811.27      Current            0.00  \n",
       "77861711          2310.49  Charged Off         6430.36  \n",
       "103448519         6228.92      Current            0.00  \n",
       "...                   ...          ...             ...  \n",
       "51876926          8000.00   Fully Paid            0.00  \n",
       "121031962         4388.51      Current            0.00  \n",
       "135641397         5387.53      Current            0.00  \n",
       "53664762          2964.44  Charged Off         2750.88  \n",
       "94394801          7096.40      Current            0.00  \n",
       "\n",
       "[140000 rows x 25 columns]"
      ]
     },
     "execution_count": 5,
     "metadata": {},
     "output_type": "execute_result"
    }
   ],
   "source": [
    "df = clean_names(df)\n",
    "df"
   ]
  },
  {
   "cell_type": "markdown",
   "id": "d2d5443c",
   "metadata": {},
   "source": [
    "## VISIÓN GENERAL"
   ]
  },
  {
   "cell_type": "code",
   "execution_count": 6,
   "id": "976c8ac6",
   "metadata": {},
   "outputs": [
    {
     "name": "stdout",
     "output_type": "stream",
     "text": [
      "<class 'pandas.core.frame.DataFrame'>\n",
      "Int64Index: 140000 entries, 137387967 to 94394801\n",
      "Data columns (total 25 columns):\n",
      " #   Column                       Non-Null Count   Dtype  \n",
      "---  ------                       --------------   -----  \n",
      " 0   unnamed_0                    140000 non-null  int64  \n",
      " 1   empleo                       129684 non-null  object \n",
      " 2   antiguedad_empleo            130967 non-null  object \n",
      " 3   ingresos                     140000 non-null  float64\n",
      " 4   ingresos_verificados         140000 non-null  object \n",
      " 5   rating                       140000 non-null  object \n",
      " 6   dti                          139892 non-null  float64\n",
      " 7   vivienda                     140000 non-null  object \n",
      " 8   num_hipotecas                136919 non-null  float64\n",
      " 9   num_lineas_credito           139998 non-null  float64\n",
      " 10  porc_tarjetas_75p            135362 non-null  float64\n",
      " 11  porc_uso_revolving           139885 non-null  float64\n",
      " 12  num_cancelaciones_12meses    139993 non-null  float64\n",
      " 13  num_derogatorios             139998 non-null  float64\n",
      " 14  num_meses_desde_ult_retraso  68200 non-null   float64\n",
      " 15  id_prestamo                  0 non-null       float64\n",
      " 16  descripcion                  7769 non-null    object \n",
      " 17  finalidad                    140000 non-null  object \n",
      " 18  principal                    140000 non-null  float64\n",
      " 19  tipo_interes                 140000 non-null  float64\n",
      " 20  num_cuotas                   140000 non-null  object \n",
      " 21  imp_cuota                    140000 non-null  float64\n",
      " 22  imp_amortizado               140000 non-null  float64\n",
      " 23  estado                       140000 non-null  object \n",
      " 24  imp_recuperado               140000 non-null  float64\n",
      "dtypes: float64(15), int64(1), object(9)\n",
      "memory usage: 27.8+ MB\n"
     ]
    }
   ],
   "source": [
    "df.info()"
   ]
  },
  {
   "cell_type": "markdown",
   "id": "158ee1d7",
   "metadata": {},
   "source": [
    "## TIPOS DE DATOS"
   ]
  },
  {
   "cell_type": "markdown",
   "id": "88162727",
   "metadata": {},
   "source": [
    "### Identificación"
   ]
  },
  {
   "cell_type": "code",
   "execution_count": 7,
   "id": "197a99c2",
   "metadata": {},
   "outputs": [
    {
     "data": {
      "text/plain": [
       "unnamed_0                        int64\n",
       "empleo                          object\n",
       "antiguedad_empleo               object\n",
       "ingresos                       float64\n",
       "ingresos_verificados            object\n",
       "rating                          object\n",
       "dti                            float64\n",
       "vivienda                        object\n",
       "num_hipotecas                  float64\n",
       "num_lineas_credito             float64\n",
       "porc_tarjetas_75p              float64\n",
       "porc_uso_revolving             float64\n",
       "num_cancelaciones_12meses      float64\n",
       "num_derogatorios               float64\n",
       "num_meses_desde_ult_retraso    float64\n",
       "id_prestamo                    float64\n",
       "descripcion                     object\n",
       "finalidad                       object\n",
       "principal                      float64\n",
       "tipo_interes                   float64\n",
       "num_cuotas                      object\n",
       "imp_cuota                      float64\n",
       "imp_amortizado                 float64\n",
       "estado                          object\n",
       "imp_recuperado                 float64\n",
       "dtype: object"
      ]
     },
     "execution_count": 7,
     "metadata": {},
     "output_type": "execute_result"
    }
   ],
   "source": [
    "df.dtypes"
   ]
  },
  {
   "cell_type": "markdown",
   "id": "54f495a6",
   "metadata": {},
   "source": [
    "### Corrección"
   ]
  },
  {
   "cell_type": "markdown",
   "id": "cc8d4a22",
   "metadata": {},
   "source": [
    "## VALORES ÚNICOS"
   ]
  },
  {
   "cell_type": "markdown",
   "id": "f21f0e36",
   "metadata": {},
   "source": [
    "### Identificación"
   ]
  },
  {
   "cell_type": "code",
   "execution_count": 8,
   "id": "6e53e444",
   "metadata": {},
   "outputs": [
    {
     "data": {
      "text/plain": [
       "id_prestamo                         0\n",
       "num_cuotas                          2\n",
       "ingresos_verificados                3\n",
       "vivienda                            6\n",
       "num_cancelaciones_12meses           7\n",
       "rating                              7\n",
       "estado                              9\n",
       "antiguedad_empleo                  11\n",
       "finalidad                          14\n",
       "num_derogatorios                   20\n",
       "num_hipotecas                      24\n",
       "num_lineas_credito                 61\n",
       "num_meses_desde_ult_retraso       132\n",
       "porc_tarjetas_75p                 165\n",
       "tipo_interes                      580\n",
       "porc_uso_revolving               1102\n",
       "principal                        1471\n",
       "dti                              5309\n",
       "descripcion                      7747\n",
       "imp_recuperado                  10666\n",
       "ingresos                        11659\n",
       "imp_cuota                       33599\n",
       "empleo                          54492\n",
       "imp_amortizado                  57818\n",
       "unnamed_0                      140000\n",
       "dtype: int64"
      ]
     },
     "execution_count": 8,
     "metadata": {},
     "output_type": "execute_result"
    }
   ],
   "source": [
    "df.nunique().sort_values()"
   ]
  },
  {
   "cell_type": "markdown",
   "id": "b1d1a668",
   "metadata": {},
   "source": [
    "### Corrección"
   ]
  },
  {
   "cell_type": "code",
   "execution_count": 9,
   "id": "62f7d14e",
   "metadata": {},
   "outputs": [],
   "source": [
    "df=df.drop(columns = ['id_prestamo','unnamed_0'])"
   ]
  },
  {
   "cell_type": "markdown",
   "id": "632ec2cd",
   "metadata": {},
   "source": [
    "## SEPARAR NUMÉRICAS Y CATEGÓRICAS"
   ]
  },
  {
   "cell_type": "markdown",
   "id": "573a61ac",
   "metadata": {},
   "source": [
    "### Categóricas"
   ]
  },
  {
   "cell_type": "code",
   "execution_count": 10,
   "id": "47a7eece",
   "metadata": {},
   "outputs": [],
   "source": [
    "cat = df.select_dtypes(exclude = 'number').copy()"
   ]
  },
  {
   "cell_type": "markdown",
   "id": "41756893",
   "metadata": {},
   "source": [
    "### Numéricas"
   ]
  },
  {
   "cell_type": "code",
   "execution_count": 11,
   "id": "59140e9a",
   "metadata": {},
   "outputs": [],
   "source": [
    "num = df.select_dtypes(include='number').copy()"
   ]
  },
  {
   "cell_type": "markdown",
   "id": "5e7d8e7e",
   "metadata": {},
   "source": [
    "## GESTIÓN DE CATEGÓRICAS"
   ]
  },
  {
   "cell_type": "markdown",
   "id": "5b5808b7",
   "metadata": {},
   "source": [
    "### Nulos"
   ]
  },
  {
   "cell_type": "markdown",
   "id": "5c08ca55",
   "metadata": {},
   "source": [
    "#### Identificación"
   ]
  },
  {
   "cell_type": "code",
   "execution_count": 12,
   "id": "da49ae63",
   "metadata": {
    "scrolled": true
   },
   "outputs": [
    {
     "data": {
      "text/plain": [
       "descripcion             132231\n",
       "empleo                   10316\n",
       "antiguedad_empleo         9033\n",
       "ingresos_verificados         0\n",
       "rating                       0\n",
       "vivienda                     0\n",
       "finalidad                    0\n",
       "num_cuotas                   0\n",
       "estado                       0\n",
       "dtype: int64"
      ]
     },
     "execution_count": 12,
     "metadata": {},
     "output_type": "execute_result"
    }
   ],
   "source": [
    "cat.isna().sum().sort_values(ascending = False)"
   ]
  },
  {
   "cell_type": "markdown",
   "id": "6802d575",
   "metadata": {},
   "source": [
    "#### Corrección"
   ]
  },
  {
   "cell_type": "markdown",
   "id": "ebeb52a6",
   "metadata": {},
   "source": [
    "##### Imputar por un valor"
   ]
  },
  {
   "cell_type": "markdown",
   "id": "2cba1c3c",
   "metadata": {},
   "source": [
    "###### Variables a imputar"
   ]
  },
  {
   "cell_type": "code",
   "execution_count": 13,
   "id": "4050ef9f",
   "metadata": {},
   "outputs": [],
   "source": [
    "var_imputar_valor = cat.columns.to_list()"
   ]
  },
  {
   "cell_type": "markdown",
   "id": "fa866ac6",
   "metadata": {},
   "source": [
    "###### Valor por el que imputar"
   ]
  },
  {
   "cell_type": "code",
   "execution_count": 14,
   "id": "10abb34a",
   "metadata": {},
   "outputs": [],
   "source": [
    "valor = 'Unknown'"
   ]
  },
  {
   "cell_type": "markdown",
   "id": "78d10252",
   "metadata": {},
   "source": [
    "###### Imputar"
   ]
  },
  {
   "cell_type": "code",
   "execution_count": 15,
   "id": "f16e8491",
   "metadata": {},
   "outputs": [],
   "source": [
    "cat[var_imputar_valor] = cat[var_imputar_valor].fillna(valor)"
   ]
  },
  {
   "cell_type": "code",
   "execution_count": 16,
   "id": "fc05d496-909c-472b-a05c-1feee2861abf",
   "metadata": {},
   "outputs": [
    {
     "data": {
      "text/html": [
       "<div>\n",
       "<style scoped>\n",
       "    .dataframe tbody tr th:only-of-type {\n",
       "        vertical-align: middle;\n",
       "    }\n",
       "\n",
       "    .dataframe tbody tr th {\n",
       "        vertical-align: top;\n",
       "    }\n",
       "\n",
       "    .dataframe thead th {\n",
       "        text-align: right;\n",
       "    }\n",
       "</style>\n",
       "<table border=\"1\" class=\"dataframe\">\n",
       "  <thead>\n",
       "    <tr style=\"text-align: right;\">\n",
       "      <th></th>\n",
       "      <th>count</th>\n",
       "      <th>unique</th>\n",
       "      <th>top</th>\n",
       "      <th>freq</th>\n",
       "    </tr>\n",
       "  </thead>\n",
       "  <tbody>\n",
       "    <tr>\n",
       "      <th>empleo</th>\n",
       "      <td>140000</td>\n",
       "      <td>54493</td>\n",
       "      <td>Unknown</td>\n",
       "      <td>10316</td>\n",
       "    </tr>\n",
       "    <tr>\n",
       "      <th>antiguedad_empleo</th>\n",
       "      <td>140000</td>\n",
       "      <td>12</td>\n",
       "      <td>10+ years</td>\n",
       "      <td>46111</td>\n",
       "    </tr>\n",
       "    <tr>\n",
       "      <th>ingresos_verificados</th>\n",
       "      <td>140000</td>\n",
       "      <td>3</td>\n",
       "      <td>Source Verified</td>\n",
       "      <td>54979</td>\n",
       "    </tr>\n",
       "    <tr>\n",
       "      <th>rating</th>\n",
       "      <td>140000</td>\n",
       "      <td>7</td>\n",
       "      <td>B</td>\n",
       "      <td>41057</td>\n",
       "    </tr>\n",
       "    <tr>\n",
       "      <th>vivienda</th>\n",
       "      <td>140000</td>\n",
       "      <td>6</td>\n",
       "      <td>MORTGAGE</td>\n",
       "      <td>68788</td>\n",
       "    </tr>\n",
       "    <tr>\n",
       "      <th>descripcion</th>\n",
       "      <td>140000</td>\n",
       "      <td>7747</td>\n",
       "      <td>Unknown</td>\n",
       "      <td>132232</td>\n",
       "    </tr>\n",
       "    <tr>\n",
       "      <th>finalidad</th>\n",
       "      <td>140000</td>\n",
       "      <td>14</td>\n",
       "      <td>debt_consolidation</td>\n",
       "      <td>79451</td>\n",
       "    </tr>\n",
       "    <tr>\n",
       "      <th>num_cuotas</th>\n",
       "      <td>140000</td>\n",
       "      <td>2</td>\n",
       "      <td>36 months</td>\n",
       "      <td>99945</td>\n",
       "    </tr>\n",
       "    <tr>\n",
       "      <th>estado</th>\n",
       "      <td>140000</td>\n",
       "      <td>9</td>\n",
       "      <td>Fully Paid</td>\n",
       "      <td>66588</td>\n",
       "    </tr>\n",
       "  </tbody>\n",
       "</table>\n",
       "</div>"
      ],
      "text/plain": [
       "                       count unique                 top    freq\n",
       "empleo                140000  54493             Unknown   10316\n",
       "antiguedad_empleo     140000     12           10+ years   46111\n",
       "ingresos_verificados  140000      3     Source Verified   54979\n",
       "rating                140000      7                   B   41057\n",
       "vivienda              140000      6            MORTGAGE   68788\n",
       "descripcion           140000   7747             Unknown  132232\n",
       "finalidad             140000     14  debt_consolidation   79451\n",
       "num_cuotas            140000      2           36 months   99945\n",
       "estado                140000      9          Fully Paid   66588"
      ]
     },
     "execution_count": 16,
     "metadata": {},
     "output_type": "execute_result"
    }
   ],
   "source": [
    "cat.describe().T"
   ]
  },
  {
   "cell_type": "markdown",
   "id": "db3a72a6",
   "metadata": {},
   "source": [
    "## GESTIÓN DE NUMÉRICAS"
   ]
  },
  {
   "cell_type": "markdown",
   "id": "d65bd06a",
   "metadata": {},
   "source": [
    "### Nulos"
   ]
  },
  {
   "cell_type": "markdown",
   "id": "e5ee8416",
   "metadata": {},
   "source": [
    "#### Identificación"
   ]
  },
  {
   "cell_type": "code",
   "execution_count": 17,
   "id": "a093774f-9bda-4463-b689-8c0587f859ff",
   "metadata": {},
   "outputs": [
    {
     "data": {
      "image/png": "[encoded data removed]",
      "text/plain": [
       "<Figure size 864x432 with 1 Axes>"
      ]
     },
     "metadata": {
      "needs_background": "light"
     },
     "output_type": "display_data"
    }
   ],
   "source": [
    "num.num_meses_desde_ult_retraso.value_counts().sort_index().plot.bar(figsize = (12,6));"
   ]
  },
  {
   "cell_type": "code",
   "execution_count": 18,
   "id": "44e94667-f37f-4642-800e-fad04c82996a",
   "metadata": {},
   "outputs": [
    {
     "data": {
      "text/plain": [
       "num_meses_desde_ult_retraso    51.285714\n",
       "porc_tarjetas_75p               3.312857\n",
       "num_hipotecas                   2.200714\n",
       "porc_uso_revolving              0.082143\n",
       "dti                             0.077143\n",
       "num_cancelaciones_12meses       0.005000\n",
       "num_lineas_credito              0.001429\n",
       "num_derogatorios                0.001429\n",
       "ingresos                        0.000000\n",
       "principal                       0.000000\n",
       "tipo_interes                    0.000000\n",
       "imp_cuota                       0.000000\n",
       "imp_amortizado                  0.000000\n",
       "imp_recuperado                  0.000000\n",
       "dtype: float64"
      ]
     },
     "execution_count": 18,
     "metadata": {},
     "output_type": "execute_result"
    }
   ],
   "source": [
    "num.isna().mean().sort_values(ascending = False)*100\n",
    "\n"
   ]
  },
  {
   "cell_type": "code",
   "execution_count": 36,
   "id": "04615ac9",
   "metadata": {},
   "outputs": [
    {
     "data": {
      "text/plain": [
       "0.0     117513\n",
       "1.0      18857\n",
       "2.0       2175\n",
       "3.0        645\n",
       "4.0        218\n",
       "5.0        108\n",
       "6.0         58\n",
       "7.0         26\n",
       "8.0         16\n",
       "9.0         10\n",
       "10.0         6\n",
       "13.0         3\n",
       "11.0         3\n",
       "19.0         3\n",
       "16.0         1\n",
       "15.0         1\n",
       "46.0         1\n",
       "28.0         1\n",
       "24.0         1\n",
       "Name: num_derogatorios, dtype: int64"
      ]
     },
     "execution_count": 36,
     "metadata": {},
     "output_type": "execute_result"
    }
   ],
   "source": [
    "num.num_derogatorios.value_counts()"
   ]
  },
  {
   "cell_type": "code",
   "execution_count": 19,
   "id": "c9f054a3",
   "metadata": {
    "scrolled": true
   },
   "outputs": [
    {
     "data": {
      "text/plain": [
       "num_meses_desde_ult_retraso    71800\n",
       "porc_tarjetas_75p               4638\n",
       "num_hipotecas                   3081\n",
       "porc_uso_revolving               115\n",
       "dti                              108\n",
       "num_cancelaciones_12meses          7\n",
       "num_lineas_credito                 2\n",
       "num_derogatorios                   2\n",
       "ingresos                           0\n",
       "principal                          0\n",
       "tipo_interes                       0\n",
       "imp_cuota                          0\n",
       "imp_amortizado                     0\n",
       "imp_recuperado                     0\n",
       "dtype: int64"
      ]
     },
     "execution_count": 19,
     "metadata": {},
     "output_type": "execute_result"
    }
   ],
   "source": [
    "num.isna().sum().sort_values(ascending = False)"
   ]
  },
  {
   "cell_type": "markdown",
   "id": "1b7cb2c4",
   "metadata": {},
   "source": [
    "#### Corrección"
   ]
  },
  {
   "cell_type": "markdown",
   "id": "48c76393",
   "metadata": {},
   "source": [
    "##### Eliminar la variable"
   ]
  },
  {
   "cell_type": "markdown",
   "id": "214264cb",
   "metadata": {},
   "source": [
    "##### Imputar por la media"
   ]
  },
  {
   "cell_type": "markdown",
   "id": "1f927674",
   "metadata": {},
   "source": [
    "###### Variables a imputar"
   ]
  },
  {
   "cell_type": "code",
   "execution_count": 20,
   "id": "17c30954",
   "metadata": {},
   "outputs": [],
   "source": [
    "var_imputar_moda = num.columns.to_list()\n",
    "var_imputar_moda.remove('num_meses_desde_ult_retraso')"
   ]
  },
  {
   "cell_type": "markdown",
   "id": "ac2fbb2c",
   "metadata": {},
   "source": [
    "###### Funcion para imputar con la media"
   ]
  },
  {
   "cell_type": "code",
   "execution_count": 21,
   "id": "e8ffdb3d",
   "metadata": {},
   "outputs": [],
   "source": [
    "def imputar_moda(variable):\n",
    "    if pd.api.types.is_integer_dtype(variable):\n",
    "        return(variable.fillna(int(variable.mode()[0])))\n",
    "    else:\n",
    "        return(variable.fillna(variable.mode()[0]))"
   ]
  },
  {
   "cell_type": "markdown",
   "id": "54407baa",
   "metadata": {},
   "source": [
    "###### Imputar con la media"
   ]
  },
  {
   "cell_type": "code",
   "execution_count": 22,
   "id": "605f7ad2",
   "metadata": {},
   "outputs": [],
   "source": [
    "num[var_imputar_moda] = num[var_imputar_moda].apply(imputar_moda)"
   ]
  },
  {
   "cell_type": "markdown",
   "id": "70d7a1c5",
   "metadata": {},
   "source": [
    "###### Imputar por 0"
   ]
  },
  {
   "cell_type": "code",
   "execution_count": 23,
   "id": "887a4106",
   "metadata": {},
   "outputs": [],
   "source": [
    "Var_imp_0=['num_meses_desde_ult_retraso']"
   ]
  },
  {
   "cell_type": "code",
   "execution_count": 24,
   "id": "0f1a97c8-9001-46ae-8827-7235075f8879",
   "metadata": {},
   "outputs": [],
   "source": [
    "def imput_cero(df):\n",
    "    df[Var_imp_0]=df[Var_imp_0].fillna(0)\n",
    "    return(df)            "
   ]
  },
  {
   "cell_type": "code",
   "execution_count": 25,
   "id": "0487eb44-f819-413c-abbf-cce146f9326a",
   "metadata": {},
   "outputs": [],
   "source": [
    "num=imput_cero(num)"
   ]
  },
  {
   "cell_type": "markdown",
   "id": "82cb56e8",
   "metadata": {},
   "source": [
    "### Atípicos"
   ]
  },
  {
   "cell_type": "markdown",
   "id": "760baf8c",
   "metadata": {},
   "source": [
    "#### Por desviación típica"
   ]
  },
  {
   "cell_type": "markdown",
   "id": "4b508149",
   "metadata": {},
   "source": [
    "##### Identificación"
   ]
  },
  {
   "cell_type": "markdown",
   "id": "8ceda3d3",
   "metadata": {},
   "source": [
    "###### Definir el número de desviaciones típicas"
   ]
  },
  {
   "cell_type": "code",
   "execution_count": 26,
   "id": "2b7419cb",
   "metadata": {},
   "outputs": [],
   "source": [
    "num_desv_tip = 4"
   ]
  },
  {
   "cell_type": "markdown",
   "id": "942da237",
   "metadata": {},
   "source": [
    "###### Función que devuelve los índices de los atípicos"
   ]
  },
  {
   "cell_type": "code",
   "execution_count": 27,
   "id": "8a81f494",
   "metadata": {},
   "outputs": [],
   "source": [
    "def atipicos_desv_tip(variable, num_desv_tip = 4):\n",
    "    #sacamos los nulos por ahora\n",
    "    variable = variable.dropna()\n",
    "    #calculamos los límites\n",
    "    media = np.mean(variable)\n",
    "    sd = np.std(variable)\n",
    "    umbral = sd * num_desv_tip\n",
    "    lim_inf = media - umbral\n",
    "    lim_sup = media + umbral\n",
    "    #encontramos los índices de los que están fuera de los límites\n",
    "    indices = [indice for indice,valor in variable.items() if valor < lim_inf or valor > lim_sup]\n",
    "    return(indices)"
   ]
  },
  {
   "cell_type": "markdown",
   "id": "768e7398",
   "metadata": {},
   "source": [
    "###### Función que cuenta el número de atípicos"
   ]
  },
  {
   "cell_type": "code",
   "execution_count": 28,
   "id": "5c8f4462",
   "metadata": {},
   "outputs": [],
   "source": [
    "def conteo_atipicos(df,variable, num_desv_tip = 4):\n",
    "    atipicos = atipicos_desv_tip(df[variable], num_desv_tip)\n",
    "    return(df.loc[atipicos,variable].value_counts().sort_index())"
   ]
  },
  {
   "cell_type": "markdown",
   "id": "5cd1e425",
   "metadata": {},
   "source": [
    "###### Variables a aplicar"
   ]
  },
  {
   "cell_type": "code",
   "execution_count": 29,
   "id": "cfbb3d88",
   "metadata": {},
   "outputs": [],
   "source": [
    "var_atipicos_dt = ['ingresos','principal','imp_cuota','imp_recuperado']"
   ]
  },
  {
   "cell_type": "markdown",
   "id": "ac400ced",
   "metadata": {},
   "source": [
    "###### Aplicar"
   ]
  },
  {
   "cell_type": "code",
   "execution_count": 30,
   "id": "c4b74e98",
   "metadata": {},
   "outputs": [
    {
     "name": "stdout",
     "output_type": "stream",
     "text": [
      "\n",
      "ingresos:\n",
      "\n",
      "432824.0      1\n",
      "435000.0      4\n",
      "439840.0      1\n",
      "439868.0      1\n",
      "440000.0      3\n",
      "             ..\n",
      "7845315.0     1\n",
      "8500000.0     1\n",
      "8500021.0     1\n",
      "9550000.0     1\n",
      "10999200.0    1\n",
      "Name: ingresos, Length: 140, dtype: int64\n",
      "\n",
      "principal:\n",
      "\n",
      "Series([], Name: principal, dtype: int64)\n",
      "\n",
      "imp_cuota:\n",
      "\n",
      "1566.80    2\n",
      "1587.02    1\n",
      "1607.80    1\n",
      "1714.54    1\n",
      "Name: imp_cuota, dtype: int64\n",
      "\n",
      "imp_recuperado:\n",
      "\n",
      "3213.00     1\n",
      "3213.23     1\n",
      "3213.24     1\n",
      "3216.59     1\n",
      "3217.97     1\n",
      "           ..\n",
      "24383.06    1\n",
      "26172.99    1\n",
      "27478.64    1\n",
      "27657.68    1\n",
      "33407.16    1\n",
      "Name: imp_recuperado, Length: 1582, dtype: int64\n"
     ]
    }
   ],
   "source": [
    "for variable in var_atipicos_dt:\n",
    "    print('\\n' + variable + ':\\n')\n",
    "    print(conteo_atipicos(num,variable,num_desv_tip))"
   ]
  },
  {
   "cell_type": "markdown",
   "id": "5197aae9",
   "metadata": {},
   "source": [
    "##### Corrección"
   ]
  },
  {
   "cell_type": "markdown",
   "id": "2b9255dd",
   "metadata": {},
   "source": [
    "Eliminar los registros que tengan al menos un atípico en alguna de las variables indicadas."
   ]
  },
  {
   "cell_type": "markdown",
   "id": "e1233b46",
   "metadata": {},
   "source": [
    "*Cuidado: Si se eliminan registros hay que eliminarlos tanto de cat como de num*"
   ]
  },
  {
   "cell_type": "markdown",
   "id": "18548d6d",
   "metadata": {},
   "source": [
    "###### Variables a aplicar"
   ]
  },
  {
   "cell_type": "code",
   "execution_count": 31,
   "id": "81e715d9",
   "metadata": {},
   "outputs": [],
   "source": [
    "var_atipicos_dt = ['ingresos']"
   ]
  },
  {
   "cell_type": "markdown",
   "id": "b995bf77",
   "metadata": {},
   "source": [
    "###### Aplicar"
   ]
  },
  {
   "cell_type": "code",
   "execution_count": 32,
   "id": "413fa5ea",
   "metadata": {},
   "outputs": [],
   "source": [
    "for variable in var_atipicos_dt:\n",
    "    cat.drop(atipicos_desv_tip(num[variable], num_desv_tip),axis = 0, inplace = True)\n",
    "    num.drop(atipicos_desv_tip(num[variable], num_desv_tip),axis = 0, inplace = True)"
   ]
  },
  {
   "cell_type": "markdown",
   "id": "0f6b1e4a",
   "metadata": {},
   "source": [
    "## GUARDAR DATASETS TRAS CALIDAD DE DATOS"
   ]
  },
  {
   "cell_type": "markdown",
   "id": "1e211b09",
   "metadata": {},
   "source": [
    "Guarda los avances en df, cat y num con un sufijo para poder guardar o recuperar avances del proyecto.\n",
    "\n",
    "En formato pickle para no perder las modificaciones de metadatos."
   ]
  },
  {
   "cell_type": "markdown",
   "id": "abb12eef",
   "metadata": {},
   "source": [
    "### Definir los nombres de los archivos"
   ]
  },
  {
   "cell_type": "code",
   "execution_count": 33,
   "id": "f83c6f26",
   "metadata": {},
   "outputs": [],
   "source": [
    "ruta_trabajo = ruta_proyecto + '/02_Datos/03_Trabajo/' + 'trabajo_resultado_calidad.pickle'\n",
    "ruta_cat = ruta_proyecto + '/02_Datos/03_Trabajo/' + 'cat_resultado_calidad.pickle'\n",
    "ruta_num = ruta_proyecto + '/02_Datos/03_Trabajo/' + 'num_resultado_calidad.pickle'"
   ]
  },
  {
   "cell_type": "markdown",
   "id": "1699f284",
   "metadata": {},
   "source": [
    "### Guardar los archivos"
   ]
  },
  {
   "cell_type": "code",
   "execution_count": 34,
   "id": "6731887a",
   "metadata": {},
   "outputs": [],
   "source": [
    "df.to_pickle(ruta_trabajo)\n",
    "cat.to_pickle(ruta_cat)\n",
    "num.to_pickle(ruta_num)"
   ]
  }
 ],
 "metadata": {
  "kernelspec": {
   "display_name": "Python 3 (ipykernel)",
   "language": "python",
   "name": "python3"
  },
  "language_info": {
   "codemirror_mode": {
    "name": "ipython",
    "version": 3
   },
   "file_extension": ".py",
   "mimetype": "text/x-python",
   "name": "python",
   "nbconvert_exporter": "python",
   "pygments_lexer": "ipython3",
   "version": "3.12.3"
  },
  "toc": {
   "base_numbering": 1,
   "nav_menu": {},
   "number_sections": true,
   "sideBar": true,
   "skip_h1_title": false,
   "title_cell": "Table of Contents",
   "title_sidebar": "Contents",
   "toc_cell": false,
   "toc_position": {
    "height": "calc(100% - 180px)",
    "left": "10px",
    "top": "150px",
    "width": "406.5px"
   },
   "toc_section_display": true,
   "toc_window_display": true
  },
  "varInspector": {
   "cols": {
    "lenName": 16,
    "lenType": 16,
    "lenVar": 40
   },
   "kernels_config": {
    "python": {
     "delete_cmd_postfix": "",
     "delete_cmd_prefix": "del ",
     "library": "var_list.py",
     "varRefreshCmd": "print(var_dic_list())"
    },
    "r": {
     "delete_cmd_postfix": ") ",
     "delete_cmd_prefix": "rm(",
     "library": "var_list.r",
     "varRefreshCmd": "cat(var_dic_list()) "
    }
   },
   "position": {
    "height": "546.85px",
    "left": "680.75px",
    "right": "20px",
    "top": "118px",
    "width": "350px"
   },
   "types_to_exclude": [
    "module",
    "function",
    "builtin_function_or_method",
    "instance",
    "_Feature"
   ],
   "window_display": false
  }
 },
 "nbformat": 4,
 "nbformat_minor": 5
}
