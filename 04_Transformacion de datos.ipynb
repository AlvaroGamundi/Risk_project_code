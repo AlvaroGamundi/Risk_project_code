{
 "cells": [
  {
   "cell_type": "markdown",
   "id": "d31dea65",
   "metadata": {},
   "source": [
    "# TRANSFORMACIÓN DE DATOS"
   ]
  },
  {
   "cell_type": "markdown",
   "id": "swiss-fault",
   "metadata": {},
   "source": [
    "## IMPORTAR PAQUETES"
   ]
  },
  {
   "cell_type": "code",
   "execution_count": 1,
   "id": "adjacent-toddler",
   "metadata": {},
   "outputs": [],
   "source": [
    "import numpy as np\n",
    "import pandas as pd\n",
    "import matplotlib.pyplot as plt\n",
    "%matplotlib inline\n",
    "\n",
    "from sklearn.preprocessing import OneHotEncoder\n",
    "from sklearn.preprocessing import OrdinalEncoder\n",
    "\n",
    "from sklearn.preprocessing import KBinsDiscretizer\n",
    "from sklearn.preprocessing import Binarizer\n",
    "\n",
    "from sklearn.feature_extraction.text import TfidfVectorizer\n",
    "\n",
    "from sklearn.preprocessing import MinMaxScaler\n",
    "\n",
    "#Automcompletar rápido\n",
    "%config IPCompleter.greedy=True"
   ]
  },
  {
   "cell_type": "markdown",
   "id": "graduate-compensation",
   "metadata": {},
   "source": [
    "## IMPORTAR LOS DATOS"
   ]
  },
  {
   "cell_type": "markdown",
   "id": "3a5b94ef",
   "metadata": {},
   "source": [
    "1.- Sustituir la ruta del proyecto."
   ]
  },
  {
   "cell_type": "code",
   "execution_count": 2,
   "id": "f9d2de58",
   "metadata": {},
   "outputs": [],
   "source": [
    "ruta_proyecto = 'C:/Users/alvar/Proyectos ML/03_RIESGOS'"
   ]
  },
  {
   "cell_type": "markdown",
   "id": "c3363765",
   "metadata": {},
   "source": [
    "2.- Nombrar los ficheros de datos."
   ]
  },
  {
   "cell_type": "code",
   "execution_count": 3,
   "id": "a9e2e04a",
   "metadata": {},
   "outputs": [],
   "source": [
    "nombre_cat = 'cat_resultado_eda.pickle'\n",
    "nombre_num = 'num_resultado_eda.pickle'"
   ]
  },
  {
   "cell_type": "markdown",
   "id": "b9825018",
   "metadata": {},
   "source": [
    "3.- Cargar los datos."
   ]
  },
  {
   "cell_type": "code",
   "execution_count": 4,
   "id": "cab6ebcd",
   "metadata": {},
   "outputs": [],
   "source": [
    "cat = pd.read_pickle(ruta_proyecto + '/02_Datos/03_Trabajo/' + nombre_cat)\n",
    "num = pd.read_pickle(ruta_proyecto + '/02_Datos/03_Trabajo/' + nombre_num)"
   ]
  },
  {
   "cell_type": "markdown",
   "id": "cadc476d",
   "metadata": {},
   "source": [
    "Recordamos lo que habíamos identificado en fases anteriores y lo organizamos por tipo de acción.\n",
    "\n",
    "Modificar con pandas/numpy:\n",
    "\n",
    "* Crear la target a partir de estado\n",
    "* Discretizar num_meses_desde_ult_retraso\n",
    "* En vivienda juntar NONE y OTHER\n",
    "* En finalidad juntar renewable_energy, educational y vacation en 'otros'\n",
    "\n",
    "Modificar con scikit learn:\n",
    "\n",
    "* La variable descripcion podríamos trabajarla con un TF-IDF Vectorizer\n",
    "* Convertir num_derogatorios a binaria"
   ]
  },
  {
   "cell_type": "markdown",
   "id": "9790d322",
   "metadata": {},
   "source": [
    "## CREACIÓN DE VARIABLES Y TRANSFORMACIONES CON PANDAS"
   ]
  },
  {
   "cell_type": "markdown",
   "id": "65157e42",
   "metadata": {},
   "source": [
    "### Target para el modelo EAD"
   ]
  },
  {
   "cell_type": "code",
   "execution_count": 5,
   "id": "a78543e1-1148-4996-9b1a-d7b2d27b2f9f",
   "metadata": {},
   "outputs": [
    {
     "name": "stdout",
     "output_type": "stream",
     "text": [
      "<class 'pandas.core.frame.DataFrame'>\n",
      "Int64Index: 139482 entries, 137387967 to 94394801\n",
      "Data columns (total 14 columns):\n",
      " #   Column                       Non-Null Count   Dtype  \n",
      "---  ------                       --------------   -----  \n",
      " 0   ingresos                     139482 non-null  float64\n",
      " 1   dti                          139482 non-null  float64\n",
      " 2   num_hipotecas                139482 non-null  float64\n",
      " 3   num_lineas_credito           139482 non-null  float64\n",
      " 4   porc_tarjetas_75p            139482 non-null  float64\n",
      " 5   porc_uso_revolving           139482 non-null  float64\n",
      " 6   num_cancelaciones_12meses    139482 non-null  int32  \n",
      " 7   num_derogatorios             139482 non-null  int32  \n",
      " 8   num_meses_desde_ult_retraso  139482 non-null  float64\n",
      " 9   principal                    139482 non-null  float64\n",
      " 10  tipo_interes                 139482 non-null  float64\n",
      " 11  imp_cuota                    139482 non-null  float64\n",
      " 12  imp_amortizado               139482 non-null  float64\n",
      " 13  imp_recuperado               139482 non-null  float64\n",
      "dtypes: float64(12), int32(2)\n",
      "memory usage: 14.9 MB\n"
     ]
    }
   ],
   "source": [
    "num.info()"
   ]
  },
  {
   "cell_type": "code",
   "execution_count": 6,
   "id": "19893647-e280-47f6-938f-6d187ea8ef19",
   "metadata": {},
   "outputs": [],
   "source": [
    "num['target_ead']=num.apply(lambda x: ((x['principal']-x['imp_amortizado'])/x['principal']) if ((x['principal']-x['imp_amortizado'])/x['principal'])>=0 else 0 ,axis=1)\n"
   ]
  },
  {
   "cell_type": "code",
   "execution_count": 7,
   "id": "9da2f837-b99b-499f-834a-b1d9c8a8fa26",
   "metadata": {},
   "outputs": [
    {
     "data": {
      "text/plain": [
       "count    139482.000000\n",
       "mean          0.337500\n",
       "std           0.369130\n",
       "min           0.000000\n",
       "25%           0.000000\n",
       "50%           0.130850\n",
       "75%           0.725233\n",
       "max           1.000000\n",
       "Name: target_ead, dtype: float64"
      ]
     },
     "execution_count": 7,
     "metadata": {},
     "output_type": "execute_result"
    }
   ],
   "source": [
    "num['target_ead'].describe().T\n"
   ]
  },
  {
   "cell_type": "markdown",
   "id": "8c40c295",
   "metadata": {},
   "source": [
    "### Target para el modelo LGD"
   ]
  },
  {
   "cell_type": "markdown",
   "id": "eca326a7-47ef-4df6-a985-b18d0af5dcd4",
   "metadata": {},
   "source": [
    "num.info()"
   ]
  },
  {
   "cell_type": "code",
   "execution_count": 8,
   "id": "3812bb15-cb46-4d22-b444-5525a75edff9",
   "metadata": {},
   "outputs": [
    {
     "name": "stderr",
     "output_type": "stream",
     "text": [
      "C:\\Users\\alvar\\AppData\\Local\\Temp\\ipykernel_19924\\3665557246.py:2: RuntimeWarning: invalid value encountered in double_scalars\n",
      "  if (1-(x['imp_recuperado']/(x['principal']-x['imp_amortizado'])))>=0 else 0,axis=1)\n"
     ]
    }
   ],
   "source": [
    "num['target_lgd']=num.apply(lambda x: (1-(x['imp_recuperado']/(x['principal']-x['imp_amortizado'])))\n",
    "                        if (1-(x['imp_recuperado']/(x['principal']-x['imp_amortizado'])))>=0 else 0,axis=1)"
   ]
  },
  {
   "cell_type": "code",
   "execution_count": 9,
   "id": "e8c09fc9-c573-4f98-a41a-7645d7a1fc5b",
   "metadata": {},
   "outputs": [
    {
     "data": {
      "text/plain": [
       "0"
      ]
     },
     "execution_count": 9,
     "metadata": {},
     "output_type": "execute_result"
    }
   ],
   "source": [
    "num['target_lgd'].isna().sum()"
   ]
  },
  {
   "cell_type": "markdown",
   "id": "cd06aa6c",
   "metadata": {},
   "source": [
    "Comprobamos las targets creadas."
   ]
  },
  {
   "cell_type": "code",
   "execution_count": 10,
   "id": "639ec4bd",
   "metadata": {},
   "outputs": [
    {
     "data": {
      "text/plain": [
       "0.11874650492536672"
      ]
     },
     "execution_count": 10,
     "metadata": {},
     "output_type": "execute_result"
    }
   ],
   "source": [
    "cat['target_pd'].mean()"
   ]
  },
  {
   "cell_type": "code",
   "execution_count": 11,
   "id": "40bf8f46",
   "metadata": {},
   "outputs": [
    {
     "data": {
      "text/html": [
       "<div>\n",
       "<style scoped>\n",
       "    .dataframe tbody tr th:only-of-type {\n",
       "        vertical-align: middle;\n",
       "    }\n",
       "\n",
       "    .dataframe tbody tr th {\n",
       "        vertical-align: top;\n",
       "    }\n",
       "\n",
       "    .dataframe thead th {\n",
       "        text-align: right;\n",
       "    }\n",
       "</style>\n",
       "<table border=\"1\" class=\"dataframe\">\n",
       "  <thead>\n",
       "    <tr style=\"text-align: right;\">\n",
       "      <th></th>\n",
       "      <th>count</th>\n",
       "      <th>mean</th>\n",
       "      <th>std</th>\n",
       "      <th>min</th>\n",
       "      <th>25%</th>\n",
       "      <th>50%</th>\n",
       "      <th>75%</th>\n",
       "      <th>max</th>\n",
       "    </tr>\n",
       "  </thead>\n",
       "  <tbody>\n",
       "    <tr>\n",
       "      <th>target_ead</th>\n",
       "      <td>139482.0</td>\n",
       "      <td>0.337500</td>\n",
       "      <td>0.369130</td>\n",
       "      <td>0.0</td>\n",
       "      <td>0.0</td>\n",
       "      <td>0.130850</td>\n",
       "      <td>0.725233</td>\n",
       "      <td>1.0</td>\n",
       "    </tr>\n",
       "    <tr>\n",
       "      <th>target_lgd</th>\n",
       "      <td>139482.0</td>\n",
       "      <td>0.508857</td>\n",
       "      <td>0.490273</td>\n",
       "      <td>0.0</td>\n",
       "      <td>0.0</td>\n",
       "      <td>0.850842</td>\n",
       "      <td>1.000000</td>\n",
       "      <td>1.0</td>\n",
       "    </tr>\n",
       "  </tbody>\n",
       "</table>\n",
       "</div>"
      ],
      "text/plain": [
       "               count      mean       std  min  25%       50%       75%  max\n",
       "target_ead  139482.0  0.337500  0.369130  0.0  0.0  0.130850  0.725233  1.0\n",
       "target_lgd  139482.0  0.508857  0.490273  0.0  0.0  0.850842  1.000000  1.0"
      ]
     },
     "execution_count": 11,
     "metadata": {},
     "output_type": "execute_result"
    }
   ],
   "source": [
    "num[['target_ead','target_lgd']].describe().T"
   ]
  },
  {
   "cell_type": "markdown",
   "id": "8e6f450f-6355-4fbd-83d8-3886bb1cf2c7",
   "metadata": {},
   "source": [
    "Eliminamos las variables que crearon la target"
   ]
  },
  {
   "cell_type": "code",
   "execution_count": 12,
   "id": "aa098897-f034-48b1-a6a3-d1d0e7ef2ff7",
   "metadata": {},
   "outputs": [],
   "source": [
    "num.drop(columns=['imp_recuperado','imp_amortizado'],inplace=True)"
   ]
  },
  {
   "cell_type": "code",
   "execution_count": 13,
   "id": "359cc061-71bf-4bfa-a8e3-b90c89d33d58",
   "metadata": {},
   "outputs": [],
   "source": [
    "num.drop(columns='num_meses_desde_ult_retraso',inplace=True)"
   ]
  },
  {
   "cell_type": "markdown",
   "id": "43d5bec0",
   "metadata": {},
   "source": [
    "## TRANSFORMACIÓN DE CATEGÓRICAS"
   ]
  },
  {
   "cell_type": "code",
   "execution_count": 14,
   "id": "fdb887d8-9d86-4463-92f6-16f8131dafa9",
   "metadata": {},
   "outputs": [
    {
     "data": {
      "text/plain": [
       "['empleo',\n",
       " 'antiguedad_empleo',\n",
       " 'ingresos_verificados',\n",
       " 'rating',\n",
       " 'vivienda',\n",
       " 'descripcion',\n",
       " 'finalidad',\n",
       " 'num_cuotas',\n",
       " 'target_pd']"
      ]
     },
     "execution_count": 14,
     "metadata": {},
     "output_type": "execute_result"
    }
   ],
   "source": [
    "cat.columns.to_list()"
   ]
  },
  {
   "cell_type": "markdown",
   "id": "f1fa5201",
   "metadata": {},
   "source": [
    "### One Hot Encoding"
   ]
  },
  {
   "cell_type": "markdown",
   "id": "da9b786a",
   "metadata": {},
   "source": [
    "#### Variables a aplicar OHE"
   ]
  },
  {
   "cell_type": "code",
   "execution_count": 15,
   "id": "6e36cf47",
   "metadata": {},
   "outputs": [],
   "source": [
    "var_ohe = [ 'ingresos_verificados', 'vivienda','finalidad','num_cuotas']"
   ]
  },
  {
   "cell_type": "markdown",
   "id": "db8d4634",
   "metadata": {},
   "source": [
    "#### Instanciar"
   ]
  },
  {
   "cell_type": "code",
   "execution_count": 17,
   "id": "e75c2ee4",
   "metadata": {},
   "outputs": [],
   "source": [
    "ohe = OneHotEncoder(sparse= False, handle_unknown='ignore')"
   ]
  },
  {
   "cell_type": "markdown",
   "id": "26c9f58f",
   "metadata": {},
   "source": [
    "#### Entrenar y aplicar"
   ]
  },
  {
   "cell_type": "code",
   "execution_count": 18,
   "id": "4162d5a7",
   "metadata": {},
   "outputs": [],
   "source": [
    "cat_ohe = ohe.fit_transform(cat[var_ohe])"
   ]
  },
  {
   "cell_type": "markdown",
   "id": "c9131f15",
   "metadata": {},
   "source": [
    "#### Guardar como dataframe"
   ]
  },
  {
   "cell_type": "code",
   "execution_count": 19,
   "id": "783255d7",
   "metadata": {},
   "outputs": [],
   "source": [
    "cat_ohe = pd.DataFrame(cat_ohe, columns = ohe.get_feature_names_out())"
   ]
  },
  {
   "cell_type": "markdown",
   "id": "5e7c941a",
   "metadata": {},
   "source": [
    "### Ordinal Encoding"
   ]
  },
  {
   "cell_type": "markdown",
   "id": "c49c4a51",
   "metadata": {},
   "source": [
    "#### Variables a aplicar OE"
   ]
  },
  {
   "cell_type": "code",
   "execution_count": 20,
   "id": "8a09974e",
   "metadata": {},
   "outputs": [],
   "source": [
    "var_oe = ['antiguedad_empleo','rating']"
   ]
  },
  {
   "cell_type": "markdown",
   "id": "6922c091",
   "metadata": {},
   "source": [
    "#### Orden de los valores de las variables"
   ]
  },
  {
   "cell_type": "code",
   "execution_count": 21,
   "id": "428dfe69",
   "metadata": {},
   "outputs": [],
   "source": [
    "#Orden de la primera variable\n",
    "orden_antiguedad_empleo = ['desconocido','< 1 year','1 year','2 years','3 years','4 years',\n",
    "                           '5 years','6 years','7 years','8 years','9 years','10+ years']\n",
    "\n",
    "#Orden de la segunda variable\n",
    "orden_rating =['G','F','E','D','C','B','A']"
   ]
  },
  {
   "cell_type": "markdown",
   "id": "3b38879c",
   "metadata": {},
   "source": [
    "#### Instanciar"
   ]
  },
  {
   "cell_type": "code",
   "execution_count": 22,
   "id": "4fe57c80",
   "metadata": {},
   "outputs": [],
   "source": [
    "oe = OrdinalEncoder(categories = [orden_antiguedad_empleo,orden_rating],\n",
    "                    handle_unknown = 'use_encoded_value',\n",
    "                    unknown_value = 12)"
   ]
  },
  {
   "cell_type": "markdown",
   "id": "0aeff907",
   "metadata": {},
   "source": [
    "#### Entrenar y aplicar"
   ]
  },
  {
   "cell_type": "code",
   "execution_count": 23,
   "id": "dbeafa81",
   "metadata": {},
   "outputs": [],
   "source": [
    "cat_oe = oe.fit_transform(cat[var_oe])"
   ]
  },
  {
   "cell_type": "markdown",
   "id": "df479d84",
   "metadata": {},
   "source": [
    "#### Guardar como dataframe"
   ]
  },
  {
   "cell_type": "code",
   "execution_count": 24,
   "id": "bd1db401",
   "metadata": {},
   "outputs": [],
   "source": [
    "#Añadir sufijos a los nombres\n",
    "nombres_oe = [variable + '_oe' for variable in var_oe]\n",
    "\n",
    "#Guardar como dataframe\n",
    "cat_oe = pd.DataFrame(cat_oe, columns = nombres_oe)"
   ]
  },
  {
   "cell_type": "code",
   "execution_count": 25,
   "id": "6c0faaf2",
   "metadata": {},
   "outputs": [
    {
     "data": {
      "text/html": [
       "<div>\n",
       "<style scoped>\n",
       "    .dataframe tbody tr th:only-of-type {\n",
       "        vertical-align: middle;\n",
       "    }\n",
       "\n",
       "    .dataframe tbody tr th {\n",
       "        vertical-align: top;\n",
       "    }\n",
       "\n",
       "    .dataframe thead th {\n",
       "        text-align: right;\n",
       "    }\n",
       "</style>\n",
       "<table border=\"1\" class=\"dataframe\">\n",
       "  <thead>\n",
       "    <tr style=\"text-align: right;\">\n",
       "      <th></th>\n",
       "      <th>antiguedad_empleo_oe</th>\n",
       "      <th>rating_oe</th>\n",
       "    </tr>\n",
       "  </thead>\n",
       "  <tbody>\n",
       "    <tr>\n",
       "      <th>0</th>\n",
       "      <td>4.0</td>\n",
       "      <td>6.0</td>\n",
       "    </tr>\n",
       "    <tr>\n",
       "      <th>1</th>\n",
       "      <td>8.0</td>\n",
       "      <td>5.0</td>\n",
       "    </tr>\n",
       "    <tr>\n",
       "      <th>2</th>\n",
       "      <td>11.0</td>\n",
       "      <td>3.0</td>\n",
       "    </tr>\n",
       "    <tr>\n",
       "      <th>3</th>\n",
       "      <td>11.0</td>\n",
       "      <td>4.0</td>\n",
       "    </tr>\n",
       "    <tr>\n",
       "      <th>4</th>\n",
       "      <td>11.0</td>\n",
       "      <td>6.0</td>\n",
       "    </tr>\n",
       "    <tr>\n",
       "      <th>...</th>\n",
       "      <td>...</td>\n",
       "      <td>...</td>\n",
       "    </tr>\n",
       "    <tr>\n",
       "      <th>139477</th>\n",
       "      <td>11.0</td>\n",
       "      <td>4.0</td>\n",
       "    </tr>\n",
       "    <tr>\n",
       "      <th>139478</th>\n",
       "      <td>7.0</td>\n",
       "      <td>5.0</td>\n",
       "    </tr>\n",
       "    <tr>\n",
       "      <th>139479</th>\n",
       "      <td>11.0</td>\n",
       "      <td>3.0</td>\n",
       "    </tr>\n",
       "    <tr>\n",
       "      <th>139480</th>\n",
       "      <td>9.0</td>\n",
       "      <td>2.0</td>\n",
       "    </tr>\n",
       "    <tr>\n",
       "      <th>139481</th>\n",
       "      <td>12.0</td>\n",
       "      <td>4.0</td>\n",
       "    </tr>\n",
       "  </tbody>\n",
       "</table>\n",
       "<p>139482 rows × 2 columns</p>\n",
       "</div>"
      ],
      "text/plain": [
       "        antiguedad_empleo_oe  rating_oe\n",
       "0                        4.0        6.0\n",
       "1                        8.0        5.0\n",
       "2                       11.0        3.0\n",
       "3                       11.0        4.0\n",
       "4                       11.0        6.0\n",
       "...                      ...        ...\n",
       "139477                  11.0        4.0\n",
       "139478                   7.0        5.0\n",
       "139479                  11.0        3.0\n",
       "139480                   9.0        2.0\n",
       "139481                  12.0        4.0\n",
       "\n",
       "[139482 rows x 2 columns]"
      ]
     },
     "execution_count": 25,
     "metadata": {},
     "output_type": "execute_result"
    }
   ],
   "source": [
    "cat_oe"
   ]
  },
  {
   "cell_type": "markdown",
   "id": "a6d9a823",
   "metadata": {},
   "source": [
    "### Fechas y textos"
   ]
  },
  {
   "cell_type": "markdown",
   "id": "7f363f0d",
   "metadata": {},
   "source": [
    "Cargamos stopwords y limpiamos"
   ]
  },
  {
   "cell_type": "code",
   "execution_count": 26,
   "id": "4b97eb6d",
   "metadata": {},
   "outputs": [],
   "source": [
    "stop = pd.read_csv(ruta_proyecto + '/01_Documentos/stop_words_english.txt',names = ['termino'])\n",
    "\n",
    "def quitar_tildes(palabra):\n",
    "    #Definimos la versión con tildes y símbolos y la sin\n",
    "    con = 'áéíóúüñÁÉÍÓÚÜÑ'\n",
    "    sin = 'aeiouunAEIOUUN'\n",
    "    #Creamos un traductor\n",
    "    traductor = str.maketrans(con,sin)\n",
    "    #Aplicamos el traductor y devolvemos la palabra limpia\n",
    "    return(palabra.translate(traductor))\n",
    "\n",
    "stop['limpias'] = stop.termino.transform(quitar_tildes)"
   ]
  },
  {
   "cell_type": "markdown",
   "id": "e7089446",
   "metadata": {},
   "source": [
    "Aplicamos tf-idf."
   ]
  },
  {
   "cell_type": "code",
   "execution_count": 27,
   "id": "c558889e",
   "metadata": {},
   "outputs": [
    {
     "name": "stderr",
     "output_type": "stream",
     "text": [
      "C:\\Users\\alvar\\miniconda3\\envs\\riesgos\\lib\\site-packages\\sklearn\\feature_extraction\\text.py:396: UserWarning: Your stop_words may be inconsistent with your preprocessing. Tokenizing the stop words generated tokens ['ain', 'al', 'couldn', 'daren', 'didn', 'doesn', 'hadn', 'hasn', 'haven', 'isn', 'itse', 'll', 'mayn', 'mightn', 'mon', 'mustn', 'myse', 'needn', 'oughtn', 'shan', 'shouldn', 've', 'wasn', 'weren', 'won', 'wouldn'] not in stop_words.\n",
      "  warnings.warn(\n"
     ]
    }
   ],
   "source": [
    "#Instanciamos\n",
    "tfidf = TfidfVectorizer(strip_accents = 'unicode',\n",
    "                     stop_words = stop.limpias.to_list(),\n",
    "                     max_df = 0.7,\n",
    "                     min_df = 50,\n",
    "                     ngram_range = (1,3),\n",
    "                     max_features = 50)\n",
    "\n",
    "#Entrenamos y aplicamos\n",
    "descripcion = tfidf.fit_transform(cat.descripcion)"
   ]
  },
  {
   "cell_type": "code",
   "execution_count": 28,
   "id": "125ada11",
   "metadata": {},
   "outputs": [
    {
     "data": {
      "text/plain": [
       "{'borrower': 15,\n",
       " '08': 7,\n",
       " '01': 0,\n",
       " '12': 11,\n",
       " 'br': 22,\n",
       " '02': 1,\n",
       " 'loan': 38,\n",
       " 'br br': 24,\n",
       " 'br borrower': 23,\n",
       " 'br br borrower': 25,\n",
       " '11': 10,\n",
       " '14': 13,\n",
       " 'credit': 31,\n",
       " 'card': 26,\n",
       " 'debt': 35,\n",
       " 'pay': 42,\n",
       " 'payment': 45,\n",
       " 'cards': 28,\n",
       " 'consolidate': 29,\n",
       " 'payments': 46,\n",
       " 'month': 40,\n",
       " 'credit card': 32,\n",
       " 'card debt': 27,\n",
       " 'credit cards': 34,\n",
       " 'credit card debt': 33,\n",
       " '07': 6,\n",
       " '13': 12,\n",
       " 'years': 49,\n",
       " 'borrower 07': 20,\n",
       " 'pay credit': 43,\n",
       " '03': 2,\n",
       " 'consolidation': 30,\n",
       " 'borrower 03': 18,\n",
       " 'bills': 14,\n",
       " 'monthly': 41,\n",
       " 'paying': 44,\n",
       " 'rate': 47,\n",
       " 'borrower 12': 21,\n",
       " '09': 8,\n",
       " 'job': 37,\n",
       " 'time': 48,\n",
       " '10': 9,\n",
       " '06': 5,\n",
       " '05': 4,\n",
       " 'borrower 06': 19,\n",
       " 'money': 39,\n",
       " 'high': 36,\n",
       " '04': 3,\n",
       " 'borrower 02': 17,\n",
       " 'borrower 01': 16}"
      ]
     },
     "execution_count": 28,
     "metadata": {},
     "output_type": "execute_result"
    }
   ],
   "source": [
    "tfidf.vocabulary_"
   ]
  },
  {
   "cell_type": "markdown",
   "id": "3185add4",
   "metadata": {},
   "source": [
    "No parece que estos términos puedan generar información adicional a lo que tenemos, así que no incluiremos esta variable en los modelos."
   ]
  },
  {
   "cell_type": "code",
   "execution_count": 29,
   "id": "fe56cf53-7512-45ad-8b97-25a413807e9f",
   "metadata": {},
   "outputs": [],
   "source": [
    "#Eliminamos de cat las variables que no vamos a usar\n",
    "cat=cat.drop(columns=['empleo','descripcion'])"
   ]
  },
  {
   "cell_type": "markdown",
   "id": "ec6bd31a",
   "metadata": {},
   "source": [
    "## TRANSFORMACIÓN DE NUMÉRICAS"
   ]
  },
  {
   "cell_type": "code",
   "execution_count": 30,
   "id": "09a7165f-3b97-44cd-8338-a47e1799c038",
   "metadata": {},
   "outputs": [
    {
     "data": {
      "text/html": [
       "<div>\n",
       "<style scoped>\n",
       "    .dataframe tbody tr th:only-of-type {\n",
       "        vertical-align: middle;\n",
       "    }\n",
       "\n",
       "    .dataframe tbody tr th {\n",
       "        vertical-align: top;\n",
       "    }\n",
       "\n",
       "    .dataframe thead th {\n",
       "        text-align: right;\n",
       "    }\n",
       "</style>\n",
       "<table border=\"1\" class=\"dataframe\">\n",
       "  <thead>\n",
       "    <tr style=\"text-align: right;\">\n",
       "      <th></th>\n",
       "      <th>count</th>\n",
       "      <th>mean</th>\n",
       "      <th>std</th>\n",
       "      <th>min</th>\n",
       "      <th>25%</th>\n",
       "      <th>50%</th>\n",
       "      <th>75%</th>\n",
       "      <th>max</th>\n",
       "    </tr>\n",
       "  </thead>\n",
       "  <tbody>\n",
       "    <tr>\n",
       "      <th>ingresos</th>\n",
       "      <td>139482.0</td>\n",
       "      <td>76268.694184</td>\n",
       "      <td>45938.700153</td>\n",
       "      <td>0.00</td>\n",
       "      <td>46000.00</td>\n",
       "      <td>65000.000000</td>\n",
       "      <td>93000.000000</td>\n",
       "      <td>432000.00</td>\n",
       "    </tr>\n",
       "    <tr>\n",
       "      <th>dti</th>\n",
       "      <td>139482.0</td>\n",
       "      <td>18.558326</td>\n",
       "      <td>9.292979</td>\n",
       "      <td>0.00</td>\n",
       "      <td>11.93</td>\n",
       "      <td>17.780000</td>\n",
       "      <td>24.430000</td>\n",
       "      <td>100.00</td>\n",
       "    </tr>\n",
       "    <tr>\n",
       "      <th>num_hipotecas</th>\n",
       "      <td>139482.0</td>\n",
       "      <td>1.513794</td>\n",
       "      <td>1.885264</td>\n",
       "      <td>0.00</td>\n",
       "      <td>0.00</td>\n",
       "      <td>1.000000</td>\n",
       "      <td>2.000000</td>\n",
       "      <td>25.00</td>\n",
       "    </tr>\n",
       "    <tr>\n",
       "      <th>num_lineas_credito</th>\n",
       "      <td>139482.0</td>\n",
       "      <td>11.613807</td>\n",
       "      <td>5.647946</td>\n",
       "      <td>0.00</td>\n",
       "      <td>8.00</td>\n",
       "      <td>11.000000</td>\n",
       "      <td>14.000000</td>\n",
       "      <td>84.00</td>\n",
       "    </tr>\n",
       "    <tr>\n",
       "      <th>porc_tarjetas_75p</th>\n",
       "      <td>139482.0</td>\n",
       "      <td>41.053049</td>\n",
       "      <td>36.431064</td>\n",
       "      <td>0.00</td>\n",
       "      <td>0.00</td>\n",
       "      <td>33.300000</td>\n",
       "      <td>66.700000</td>\n",
       "      <td>100.00</td>\n",
       "    </tr>\n",
       "    <tr>\n",
       "      <th>porc_uso_revolving</th>\n",
       "      <td>139482.0</td>\n",
       "      <td>50.259137</td>\n",
       "      <td>24.684028</td>\n",
       "      <td>0.00</td>\n",
       "      <td>31.50</td>\n",
       "      <td>50.200000</td>\n",
       "      <td>69.300000</td>\n",
       "      <td>100.00</td>\n",
       "    </tr>\n",
       "    <tr>\n",
       "      <th>num_cancelaciones_12meses</th>\n",
       "      <td>139482.0</td>\n",
       "      <td>0.007872</td>\n",
       "      <td>0.088375</td>\n",
       "      <td>0.00</td>\n",
       "      <td>0.00</td>\n",
       "      <td>0.000000</td>\n",
       "      <td>0.000000</td>\n",
       "      <td>1.00</td>\n",
       "    </tr>\n",
       "    <tr>\n",
       "      <th>num_derogatorios</th>\n",
       "      <td>139482.0</td>\n",
       "      <td>0.158472</td>\n",
       "      <td>0.365184</td>\n",
       "      <td>0.00</td>\n",
       "      <td>0.00</td>\n",
       "      <td>0.000000</td>\n",
       "      <td>0.000000</td>\n",
       "      <td>1.00</td>\n",
       "    </tr>\n",
       "    <tr>\n",
       "      <th>principal</th>\n",
       "      <td>139482.0</td>\n",
       "      <td>15016.367524</td>\n",
       "      <td>9163.323034</td>\n",
       "      <td>500.00</td>\n",
       "      <td>8000.00</td>\n",
       "      <td>12800.000000</td>\n",
       "      <td>20000.000000</td>\n",
       "      <td>40000.00</td>\n",
       "    </tr>\n",
       "    <tr>\n",
       "      <th>tipo_interes</th>\n",
       "      <td>139482.0</td>\n",
       "      <td>13.093880</td>\n",
       "      <td>4.829560</td>\n",
       "      <td>5.31</td>\n",
       "      <td>9.49</td>\n",
       "      <td>12.620000</td>\n",
       "      <td>15.990000</td>\n",
       "      <td>30.99</td>\n",
       "    </tr>\n",
       "    <tr>\n",
       "      <th>imp_cuota</th>\n",
       "      <td>139482.0</td>\n",
       "      <td>445.421317</td>\n",
       "      <td>266.638721</td>\n",
       "      <td>16.08</td>\n",
       "      <td>251.36</td>\n",
       "      <td>378.200000</td>\n",
       "      <td>591.480000</td>\n",
       "      <td>1714.54</td>\n",
       "    </tr>\n",
       "    <tr>\n",
       "      <th>target_ead</th>\n",
       "      <td>139482.0</td>\n",
       "      <td>0.337500</td>\n",
       "      <td>0.369130</td>\n",
       "      <td>0.00</td>\n",
       "      <td>0.00</td>\n",
       "      <td>0.130850</td>\n",
       "      <td>0.725233</td>\n",
       "      <td>1.00</td>\n",
       "    </tr>\n",
       "    <tr>\n",
       "      <th>target_lgd</th>\n",
       "      <td>139482.0</td>\n",
       "      <td>0.508857</td>\n",
       "      <td>0.490273</td>\n",
       "      <td>0.00</td>\n",
       "      <td>0.00</td>\n",
       "      <td>0.850842</td>\n",
       "      <td>1.000000</td>\n",
       "      <td>1.00</td>\n",
       "    </tr>\n",
       "  </tbody>\n",
       "</table>\n",
       "</div>"
      ],
      "text/plain": [
       "                              count          mean           std     min  \\\n",
       "ingresos                   139482.0  76268.694184  45938.700153    0.00   \n",
       "dti                        139482.0     18.558326      9.292979    0.00   \n",
       "num_hipotecas              139482.0      1.513794      1.885264    0.00   \n",
       "num_lineas_credito         139482.0     11.613807      5.647946    0.00   \n",
       "porc_tarjetas_75p          139482.0     41.053049     36.431064    0.00   \n",
       "porc_uso_revolving         139482.0     50.259137     24.684028    0.00   \n",
       "num_cancelaciones_12meses  139482.0      0.007872      0.088375    0.00   \n",
       "num_derogatorios           139482.0      0.158472      0.365184    0.00   \n",
       "principal                  139482.0  15016.367524   9163.323034  500.00   \n",
       "tipo_interes               139482.0     13.093880      4.829560    5.31   \n",
       "imp_cuota                  139482.0    445.421317    266.638721   16.08   \n",
       "target_ead                 139482.0      0.337500      0.369130    0.00   \n",
       "target_lgd                 139482.0      0.508857      0.490273    0.00   \n",
       "\n",
       "                                25%           50%           75%        max  \n",
       "ingresos                   46000.00  65000.000000  93000.000000  432000.00  \n",
       "dti                           11.93     17.780000     24.430000     100.00  \n",
       "num_hipotecas                  0.00      1.000000      2.000000      25.00  \n",
       "num_lineas_credito             8.00     11.000000     14.000000      84.00  \n",
       "porc_tarjetas_75p              0.00     33.300000     66.700000     100.00  \n",
       "porc_uso_revolving            31.50     50.200000     69.300000     100.00  \n",
       "num_cancelaciones_12meses      0.00      0.000000      0.000000       1.00  \n",
       "num_derogatorios               0.00      0.000000      0.000000       1.00  \n",
       "principal                   8000.00  12800.000000  20000.000000   40000.00  \n",
       "tipo_interes                   9.49     12.620000     15.990000      30.99  \n",
       "imp_cuota                    251.36    378.200000    591.480000    1714.54  \n",
       "target_ead                     0.00      0.130850      0.725233       1.00  \n",
       "target_lgd                     0.00      0.850842      1.000000       1.00  "
      ]
     },
     "execution_count": 30,
     "metadata": {},
     "output_type": "execute_result"
    }
   ],
   "source": [
    "num.describe().T"
   ]
  },
  {
   "cell_type": "code",
   "execution_count": 31,
   "id": "dab3ec1f-9294-4b32-b0cb-ccf25ca67fad",
   "metadata": {},
   "outputs": [
    {
     "data": {
      "text/plain": [
       "['ingresos',\n",
       " 'dti',\n",
       " 'num_hipotecas',\n",
       " 'num_lineas_credito',\n",
       " 'porc_tarjetas_75p',\n",
       " 'porc_uso_revolving',\n",
       " 'num_cancelaciones_12meses',\n",
       " 'num_derogatorios',\n",
       " 'principal',\n",
       " 'tipo_interes',\n",
       " 'imp_cuota',\n",
       " 'target_ead',\n",
       " 'target_lgd']"
      ]
     },
     "execution_count": 31,
     "metadata": {},
     "output_type": "execute_result"
    }
   ],
   "source": [
    "num.columns.to_list()"
   ]
  },
  {
   "cell_type": "markdown",
   "id": "5f9ffae2",
   "metadata": {},
   "source": [
    "## REESCALAR VARIABLES"
   ]
  },
  {
   "cell_type": "markdown",
   "id": "fbc62831",
   "metadata": {},
   "source": [
    "### Con Min-Max"
   ]
  },
  {
   "cell_type": "code",
   "execution_count": 32,
   "id": "4cb605f8-9ca1-4514-8cf7-9977de09c575",
   "metadata": {},
   "outputs": [
    {
     "data": {
      "text/plain": [
       "id_cliente\n",
       "137387967    0\n",
       "132883631    0\n",
       "131289518    0\n",
       "77861711     0\n",
       "103448519    0\n",
       "            ..\n",
       "51876926     0\n",
       "121031962    1\n",
       "135641397    0\n",
       "53664762     1\n",
       "94394801     0\n",
       "Name: num_derogatorios, Length: 139482, dtype: int32"
      ]
     },
     "execution_count": 32,
     "metadata": {},
     "output_type": "execute_result"
    }
   ],
   "source": [
    "num['num_derogatorios']\n"
   ]
  },
  {
   "cell_type": "code",
   "execution_count": 33,
   "id": "e26dd68c-381e-409f-9e30-cd81487c691f",
   "metadata": {},
   "outputs": [],
   "source": [
    "#df de las variables que no sufren transformacion\n",
    "\n",
    "df_otros = pd.DataFrame({\n",
    "    'num_cancelaciones_12meses': num['num_cancelaciones_12meses'],\n",
    "    'num_derogatorios': num['num_derogatorios']\n",
    "}, index=num.index)\n"
   ]
  },
  {
   "cell_type": "markdown",
   "id": "b8aa2aa7",
   "metadata": {},
   "source": [
    "Unificar los datasets a reescalar."
   ]
  },
  {
   "cell_type": "code",
   "execution_count": 34,
   "id": "805b5634",
   "metadata": {},
   "outputs": [],
   "source": [
    "num_escalar = num[['ingresos',\n",
    "                  'dti',\n",
    "                  'num_lineas_credito',\n",
    "                  'porc_uso_revolving',\n",
    "                  'principal',\n",
    "                  'tipo_interes',\n",
    "                  'imp_cuota',\n",
    "                  'num_hipotecas',\n",
    "                  'porc_tarjetas_75p']].reset_index(drop=True)"
   ]
  },
  {
   "cell_type": "code",
   "execution_count": 35,
   "id": "68898fb9",
   "metadata": {},
   "outputs": [],
   "source": [
    "df_res = pd.concat([cat_oe,num_escalar], axis=1)"
   ]
  },
  {
   "cell_type": "markdown",
   "id": "de92d3fe",
   "metadata": {},
   "source": [
    "#### Variables a reescalar con Min-Max"
   ]
  },
  {
   "cell_type": "code",
   "execution_count": 36,
   "id": "4c9e40ba",
   "metadata": {},
   "outputs": [],
   "source": [
    "var_mms = df_res.columns"
   ]
  },
  {
   "cell_type": "markdown",
   "id": "b0b18ca7",
   "metadata": {},
   "source": [
    "#### Instanciar"
   ]
  },
  {
   "cell_type": "code",
   "execution_count": 37,
   "id": "44a71f10",
   "metadata": {},
   "outputs": [],
   "source": [
    "mms = MinMaxScaler()"
   ]
  },
  {
   "cell_type": "markdown",
   "id": "57f8f537",
   "metadata": {},
   "source": [
    "#### Entrenar y aplicar"
   ]
  },
  {
   "cell_type": "code",
   "execution_count": 38,
   "id": "b45d4fa8",
   "metadata": {},
   "outputs": [],
   "source": [
    "df_mms = mms.fit_transform(df_res[var_mms])"
   ]
  },
  {
   "cell_type": "markdown",
   "id": "aea83d81",
   "metadata": {},
   "source": [
    "#### Guardar como dataframe"
   ]
  },
  {
   "cell_type": "code",
   "execution_count": 39,
   "id": "d5ba3f86",
   "metadata": {},
   "outputs": [],
   "source": [
    "#Añadir sufijos a los nombres\n",
    "nombres_mms = [variable + '_mms' for variable in var_mms]\n",
    "\n",
    "#Guardar como dataframe\n",
    "df_mms = pd.DataFrame(df_mms,columns = nombres_mms)"
   ]
  },
  {
   "cell_type": "markdown",
   "id": "118dac36",
   "metadata": {},
   "source": [
    "## UNIFICAR DATASETS"
   ]
  },
  {
   "cell_type": "markdown",
   "id": "e301d458",
   "metadata": {},
   "source": [
    "### Crear una lista con los dataframes y variables a incluir en el tablón analítico para el modelo de PD"
   ]
  },
  {
   "cell_type": "code",
   "execution_count": 40,
   "id": "4e51c41f",
   "metadata": {},
   "outputs": [],
   "source": [
    "incluir_pd = [cat_ohe, df_mms, df_otros.reset_index().drop(columns=['id_cliente']), cat.target_pd.reset_index()]"
   ]
  },
  {
   "cell_type": "markdown",
   "id": "4412d913",
   "metadata": {},
   "source": [
    "### Unir todos los dataframes en el tablón analítico para el modelo de PD"
   ]
  },
  {
   "cell_type": "code",
   "execution_count": 41,
   "id": "bbacffcc",
   "metadata": {},
   "outputs": [],
   "source": [
    "df_pd = pd.concat(incluir_pd, axis = 1)"
   ]
  },
  {
   "cell_type": "code",
   "execution_count": 42,
   "id": "36a63d9c",
   "metadata": {},
   "outputs": [],
   "source": [
    "df_pd.set_index('id_cliente',inplace=True)"
   ]
  },
  {
   "cell_type": "markdown",
   "id": "d984efe9",
   "metadata": {},
   "source": [
    "### Crear una lista con los dataframes y variables a incluir en el tablón analítico para el modelo de EAD"
   ]
  },
  {
   "cell_type": "code",
   "execution_count": 43,
   "id": "02802ca1",
   "metadata": {},
   "outputs": [],
   "source": [
    "incluir_ead = [cat_ohe, df_mms, df_otros.reset_index().drop(columns=['id_cliente']), num.target_ead.reset_index()]"
   ]
  },
  {
   "cell_type": "markdown",
   "id": "281ef7f5",
   "metadata": {},
   "source": [
    "### Unir todos los dataframes en el tablón analítico para el modelo de EAD"
   ]
  },
  {
   "cell_type": "code",
   "execution_count": 44,
   "id": "2c6d00d5",
   "metadata": {},
   "outputs": [],
   "source": [
    "df_ead = pd.concat(incluir_ead, axis = 1)"
   ]
  },
  {
   "cell_type": "code",
   "execution_count": 45,
   "id": "84a43525",
   "metadata": {},
   "outputs": [],
   "source": [
    "df_ead.set_index('id_cliente',inplace=True)"
   ]
  },
  {
   "cell_type": "markdown",
   "id": "b73057a2",
   "metadata": {},
   "source": [
    "### Crear una lista con los dataframes y variables a incluir en el tablón analítico para el modelo de LGD"
   ]
  },
  {
   "cell_type": "code",
   "execution_count": 46,
   "id": "423363fa",
   "metadata": {},
   "outputs": [],
   "source": [
    "incluir_lgd = [cat_ohe, df_mms, df_otros.reset_index().drop(columns=['id_cliente']), num.target_lgd.reset_index()]"
   ]
  },
  {
   "cell_type": "markdown",
   "id": "eaa0cd9b",
   "metadata": {},
   "source": [
    "### Unir todos los dataframes en el tablón analítico para el modelo de LGD"
   ]
  },
  {
   "cell_type": "code",
   "execution_count": 47,
   "id": "524ec4a9",
   "metadata": {},
   "outputs": [],
   "source": [
    "df_lgd = pd.concat(incluir_lgd, axis = 1)"
   ]
  },
  {
   "cell_type": "code",
   "execution_count": 48,
   "id": "2d5df340",
   "metadata": {},
   "outputs": [],
   "source": [
    "df_lgd.set_index('id_cliente',inplace=True)"
   ]
  },
  {
   "cell_type": "markdown",
   "id": "9f098f8a",
   "metadata": {},
   "source": [
    "## GUARDAR DATASETS TRAS TRANSFORMACIÓN DE DATOS"
   ]
  },
  {
   "cell_type": "markdown",
   "id": "7656ba95",
   "metadata": {},
   "source": [
    "En formato pickle para no perder las modificaciones de metadatos."
   ]
  },
  {
   "cell_type": "code",
   "execution_count": 49,
   "id": "782bf43c",
   "metadata": {},
   "outputs": [],
   "source": [
    "#Definir los nombres de los archivos\n",
    "ruta_df_tablon_pd = ruta_proyecto + '/02_Datos/03_Trabajo/' + 'df_tablon_pd.pickle'\n",
    "ruta_df_tablon_ead = ruta_proyecto + '/02_Datos/03_Trabajo/' + 'df_tablon_ead.pickle'\n",
    "ruta_df_tablon_lgd = ruta_proyecto + '/02_Datos/03_Trabajo/' + 'df_tablon_lgd.pickle'"
   ]
  },
  {
   "cell_type": "code",
   "execution_count": 50,
   "id": "44c7dd60",
   "metadata": {},
   "outputs": [],
   "source": [
    "# #Guardar los archivos\n",
    "df_pd.to_pickle(ruta_df_tablon_pd)\n",
    "df_ead.to_pickle(ruta_df_tablon_ead)\n",
    "df_lgd.to_pickle(ruta_df_tablon_lgd)"
   ]
  },
  {
   "cell_type": "code",
   "execution_count": 51,
   "id": "46ea26e7-0f77-45b8-8c3a-5e3810ebe876",
   "metadata": {},
   "outputs": [
    {
     "data": {
      "text/plain": [
       "(139482, 33)"
      ]
     },
     "execution_count": 51,
     "metadata": {},
     "output_type": "execute_result"
    }
   ],
   "source": [
    "df_lgd.shape\n"
   ]
  },
  {
   "cell_type": "code",
   "execution_count": null,
   "id": "f958cf0a-559f-4267-834e-3c0aa5b99ca0",
   "metadata": {},
   "outputs": [],
   "source": []
  },
  {
   "cell_type": "code",
   "execution_count": null,
   "id": "3a64b5d5",
   "metadata": {},
   "outputs": [],
   "source": []
  }
 ],
 "metadata": {
  "kernelspec": {
   "display_name": "Python 3 (ipykernel)",
   "language": "python",
   "name": "python3"
  },
  "language_info": {
   "codemirror_mode": {
    "name": "ipython",
    "version": 3
   },
   "file_extension": ".py",
   "mimetype": "text/x-python",
   "name": "python",
   "nbconvert_exporter": "python",
   "pygments_lexer": "ipython3",
   "version": "3.9.7"
  },
  "toc": {
   "base_numbering": 1,
   "nav_menu": {},
   "number_sections": true,
   "sideBar": true,
   "skip_h1_title": false,
   "title_cell": "Table of Contents",
   "title_sidebar": "Contents",
   "toc_cell": false,
   "toc_position": {
    "height": "calc(100% - 180px)",
    "left": "10px",
    "top": "150px",
    "width": "394.617px"
   },
   "toc_section_display": true,
   "toc_window_display": true
  },
  "varInspector": {
   "cols": {
    "lenName": 16,
    "lenType": 16,
    "lenVar": 40
   },
   "kernels_config": {
    "python": {
     "delete_cmd_postfix": "",
     "delete_cmd_prefix": "del ",
     "library": "var_list.py",
     "varRefreshCmd": "print(var_dic_list())"
    },
    "r": {
     "delete_cmd_postfix": ") ",
     "delete_cmd_prefix": "rm(",
     "library": "var_list.r",
     "varRefreshCmd": "cat(var_dic_list()) "
    }
   },
   "position": {
    "height": "546.85px",
    "left": "812.75px",
    "right": "20px",
    "top": "102px",
    "width": "350px"
   },
   "types_to_exclude": [
    "module",
    "function",
    "builtin_function_or_method",
    "instance",
    "_Feature"
   ],
   "window_display": false
  }
 },
 "nbformat": 4,
 "nbformat_minor": 5
}
